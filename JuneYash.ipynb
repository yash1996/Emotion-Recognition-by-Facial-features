{
 "cells": [
  {
   "cell_type": "markdown",
   "metadata": {
    "colab_type": "text",
    "id": "-W3rrgU0vM05"
   },
   "source": [
    "# Keras Tutorial : Facial Expression Recognition Challenge \n",
    "### Using FER2013 faces dataset\n",
    "By Yash"
   ]
  },
  {
   "cell_type": "markdown",
   "metadata": {
    "colab_type": "text",
    "id": "DHH4QxjLP7VA"
   },
   "source": [
    "# About this notebook"
   ]
  },
  {
   "cell_type": "markdown",
   "metadata": {
    "colab_type": "text",
    "id": "X7Ae-mqDDInZ"
   },
   "source": [
    "This notebook consists of a detailed tutorial in keras for a kaggle problem called [Facial Expression Recognition](https://www.kaggle.com/c/challenges-in-representation-learning-facial-expression-recognition-challenge). A dataset of images of people's faces is given. As the name suggests, we have to classify the facial expression into 7 categories : Angry, Disgust, Fear, Happy, Sad, Surprise, Neutral. \n",
    "\n",
    "In this section, let's have an overall look on rest of the sections in this notebook. \n",
    "\n",
    "1. This tutorial starts with a brief introduction to Convolution neural networks and it's application on image datasets. \n",
    "\n",
    "2. Then the following section talks about the environment setup required like installing libraries and importing the datasets.\n",
    "\n",
    "3. Once we have the playground ready, it's time to play ;). Before we dwell into building the AI model, understanding the data is very important. Unlike conventional programming, building a model in this field depends on the structure and distribution of data. So, in this section we do some Exploratory data analysis and get a feel on the structure of given data.\n",
    "\n",
    "4. Most of the times, given datasets have few flaws. In this case, we will see that the number of datasets for each class have high variation. And a solution will be proposed for the same in Data-preprocessing.\n",
    "\n",
    "5. Once we have the processed data, it time to build the architecture. This section first talks about the observations I personally drew by experimenting with various hyper-parameters like filter size, no. of filters, no. of layers, learning rates, etc. Then the model is trained and a bried assessment is given over a set of epochs.\n",
    "\n",
    "6. Once the model is trained, we test it on the test data set and perform a final assessment.\n",
    "\n",
    "7. The appendix consists of future works and references and other misclaneous things.\n"
   ]
  },
  {
   "cell_type": "markdown",
   "metadata": {
    "colab_type": "text",
    "id": "WYD4x6-lIBlV"
   },
   "source": [
    "# 1.  Introduction to convolution neural networks and it's application on image datasets."
   ]
  },
  {
   "cell_type": "markdown",
   "metadata": {
    "colab_type": "text",
    "id": "S-izP-SqIDwI"
   },
   "source": [
    "In 1960s, attempts were made to mimic the brain with an expectation of achieving artificial intelligence. And that is how the neural network architecture or neural netwroks were proposed which was insipred from biological strucuture of the brain.\n",
    "\n",
    "When initial neural networks were introduced and applied for solving visual tasks, all pixels were taken individually as an input and then process them through various layers of this neural network. This is called a fully-connected network. This infact worked well in few cases like the MNIST dataset (consists of images of handwritten digits). \n",
    "\n",
    "<p align=\"center\">\n",
    "  <img src=\"https://github.com/suraj2596/EIP/blob/master/FINAL/1.gif?raw=true\"/>\n",
    "</p>\n",
    "\n",
    "\n",
    "But when more complex features have to be extracted like curves, shapes, patterns, etc... the fully connected networks tend to fail. This is due to the fact that they do not consider the spatial corelations among various pixels. To overcome this, various other methods were introduced but convolution neural networks was accepted the most and still beinf used.\n",
    "\n",
    "Convolution neural networks (CNNs), as the name suggests, uses the methodology of convolution*. In convolution, we take 2 inputs or entities which have spatial occupancy, Eg; array or matrix and not a single variable. When the first entity is slidedover the second enitity and sum of multiplications is taken, each step will produce a value. This is the result of convolution. Same methodology can be extended for 2 dimensions. And this is used in CNNs.\n",
    "\n",
    "<p align=\"center\">\n",
    "  <img src=\"https://github.com/suraj2596/EIP/blob/master/FINAL/2.gif?raw=true\"/>\n",
    "</p>\n",
    "\n",
    "\n",
    "The second entity in case of CNNs is called a filer or kernel. The resultant of the convolution is called feature map. So, when an input to a particular layer is used to convolve with one kernel or filter, a feature map is produced. number of feature maps is equal to number of filters.\n",
    "If this structure is cascaded, it called a deep convolution neural networks.\n",
    "\n",
    "\n",
    "*Strictly speaking, it should be called co-relation, not convolution. When 2 entities are convolved, the 2nd entity is supposed to be mirrored and taken into calculation."
   ]
  },
  {
   "cell_type": "markdown",
   "metadata": {
    "colab_type": "text",
    "id": "B1nvmPpaqRYe"
   },
   "source": [
    "# 2. Environment Setup\n"
   ]
  },
  {
   "cell_type": "markdown",
   "metadata": {
    "colab_type": "text",
    "id": "19IRhApHSqCZ"
   },
   "source": [
    "## Setting up Google Colab\n",
    "**NOTE : This tutorial was made to be used on Goolge colab. If you are implementing in a local system, you can skip this section.**"
   ]
  },
  {
   "cell_type": "code",
   "execution_count": 0,
   "metadata": {
    "colab": {
     "autoexec": {
      "startup": false,
      "wait_interval": 0
     }
    },
    "colab_type": "code",
    "id": "lJT2mLzKNqno"
   },
   "outputs": [],
   "source": [
    "#Linking drive to colab to store datasets\n",
    "!apt-get install -y -qq software-properties-common python-software-properties module-init-tools\n",
    "!add-apt-repository -y ppa:alessandro-strada/ppa 2>&1 > /dev/null\n",
    "!apt-get update -qq 2>&1 > /dev/null\n",
    "!apt-get -y install -qq google-drive-ocamlfuse fuse"
   ]
  },
  {
   "cell_type": "code",
   "execution_count": 0,
   "metadata": {
    "colab": {
     "autoexec": {
      "startup": false,
      "wait_interval": 0
     }
    },
    "colab_type": "code",
    "id": "zC_f-TGfOFva"
   },
   "outputs": [],
   "source": [
    "# Generate auth tokens for Colab\n",
    "from google.colab import auth\n",
    "auth.authenticate_user()\n",
    "\n",
    "# Generate creds for the Drive FUSE library. Though the link asks you to verify twice, you don't have to!\n",
    "from oauth2client.client import GoogleCredentials\n",
    "creds = GoogleCredentials.get_application_default()\n",
    "import getpass\n",
    "!google-drive-ocamlfuse -headless -id={creds.client_id} -secret={creds.client_secret} < /dev/null 2>&1 | grep URL\n",
    "vcode = getpass.getpass()\n",
    "!echo {vcode} | google-drive-ocamlfuse -headless -id={creds.client_id} -secret={creds.client_secret}"
   ]
  },
  {
   "cell_type": "code",
   "execution_count": 0,
   "metadata": {
    "colab": {
     "autoexec": {
      "startup": false,
      "wait_interval": 0
     }
    },
    "colab_type": "code",
    "id": "O3NZ8qV9OFzl"
   },
   "outputs": [],
   "source": [
    "# Create a directory\n",
    "!mkdir -p drive\n",
    "\n",
    "#mount Google Drive using the created directory.\n",
    "!google-drive-ocamlfuse drive\n",
    "!ls drive"
   ]
  },
  {
   "cell_type": "markdown",
   "metadata": {
    "colab_type": "text",
    "id": "FIE4TcFWVIhS"
   },
   "source": [
    "## Required environment setup and downloading datasets\n",
    "**NOTE : Irrespective of local or Colab instances, this section must be executed**"
   ]
  },
  {
   "cell_type": "code",
   "execution_count": 6,
   "metadata": {
    "colab": {
     "autoexec": {
      "startup": false,
      "wait_interval": 0
     },
     "base_uri": "https://localhost:8080/",
     "height": 125
    },
    "colab_type": "code",
    "executionInfo": {
     "elapsed": 24725,
     "status": "ok",
     "timestamp": 1530380506866,
     "user": {
      "displayName": "suraj b",
      "photoUrl": "https://lh3.googleusercontent.com/a/default-user=s128",
      "userId": "102683608279765749841"
     },
     "user_tz": -330
    },
    "id": "oW0tO1inVKhf",
    "outputId": "4ab84de5-3e21-451e-8c07-23198ced3999"
   },
   "outputs": [
    {
     "name": "stdout",
     "output_type": "stream",
     "text": [
      "Files in the sync folder:\n",
      "datalab  fer2013  fer2013.tar.gz  iter_2  iter_3  iter_4  iter_5  iter_6\n",
      "fer2013/fer2013.csv\n",
      "fer2013/README\n",
      "fer2013/fer2013.bib\n",
      "fer2013/\n"
     ]
    }
   ],
   "source": [
    "#This step is for the model to auto save the weights to your drive. \n",
    "#So for the next time, you can resume where you left off. \n",
    "#Let's call this the sync folder. Change the name of the folder based on your environment\n",
    "path_to_save = 'drive/EIP/Facial_Expression_Recognition/'\n",
    "\n",
    "#Echo the contents of the sync folder\n",
    "print ('Files in the sync folder:')\n",
    "!ls $path_to_save\n",
    "\n",
    "#Assuming the compressed dataset is in the sync folder... \n",
    "#Colab users, once downloaded, upload it to your sync folder and then execute this.\n",
    "#It is a 92MB file.\n",
    "!tar -xvf $path_to_save/fer2013.tar.gz"
   ]
  },
  {
   "cell_type": "code",
   "execution_count": 13,
   "metadata": {
    "colab": {
     "autoexec": {
      "startup": false,
      "wait_interval": 0
     },
     "base_uri": "https://localhost:8080/",
     "height": 35
    },
    "colab_type": "code",
    "executionInfo": {
     "elapsed": 2023,
     "status": "ok",
     "timestamp": 1530358795826,
     "user": {
      "displayName": "suraj b",
      "photoUrl": "https://lh3.googleusercontent.com/a/default-user=s128",
      "userId": "102683608279765749841"
     },
     "user_tz": -330
    },
    "id": "nCwbFP_Sfc_N",
    "outputId": "34bf4938-e122-48e1-c662-aa3f684b6756"
   },
   "outputs": [
    {
     "name": "stdout",
     "output_type": "stream",
     "text": [
      "datalab  drive\tfer2013  *.hdf5\r\n"
     ]
    }
   ],
   "source": [
    "# Run this only when starting a new session. Syncing files in drive to pwd on colab instance.\n",
    "!cp -a $path_to_save/ .\n",
    "!ls"
   ]
  },
  {
   "cell_type": "markdown",
   "metadata": {
    "colab_type": "text",
    "id": "EmsMij4GZ1aF"
   },
   "source": [
    "## Import required libraries"
   ]
  },
  {
   "cell_type": "code",
   "execution_count": 8,
   "metadata": {
    "colab": {
     "autoexec": {
      "startup": false,
      "wait_interval": 0
     },
     "base_uri": "https://localhost:8080/",
     "height": 53
    },
    "colab_type": "code",
    "executionInfo": {
     "elapsed": 5821,
     "status": "ok",
     "timestamp": 1530380574168,
     "user": {
      "displayName": "suraj b",
      "photoUrl": "https://lh3.googleusercontent.com/a/default-user=s128",
      "userId": "102683608279765749841"
     },
     "user_tz": -330
    },
    "id": "U4neQrMmfEF6",
    "outputId": "d128d060-5159-4907-a68a-65e19522dd8d"
   },
   "outputs": [
    {
     "name": "stdout",
     "output_type": "stream",
     "text": [
      "The autoreload extension is already loaded. To reload it, use:\n",
      "  %reload_ext autoreload\n"
     ]
    }
   ],
   "source": [
    "#Installing keras\n",
    "!pip install -q keras\n",
    "!pip install -q pathlib\n",
    "\n",
    "#Framework related libraries\n",
    "import keras\n",
    "from keras.models import Model, Sequential\n",
    "from keras.layers import Dense, Dropout, Flatten, Input, Activation\n",
    "from keras.layers import MaxPooling2D, BatchNormalization, SeparableConv2D\n",
    "from keras.optimizers import Adam\n",
    "\n",
    "##---------------------------------------------##\n",
    "\n",
    "#For loading models\n",
    "from pathlib import Path\n",
    "from keras.models import load_model\n",
    "\n",
    "##---------------------------------------------##\n",
    "\n",
    "##Data preprocessing\n",
    "\n",
    "#for class balance\n",
    "from sklearn.utils import class_weight\n",
    "\n",
    "#For data augmentation\n",
    "from keras.preprocessing.image import ImageDataGenerator, array_to_img, img_to_array, load_img\n",
    "\n",
    "##---------------------------------------------##\n",
    "\n",
    "# this part will prevent tensorflow to allocate all the avaliable GPU Memory\n",
    "# backend\n",
    "import tensorflow as tf\n",
    "#tf.python.control_flow_ops = tf\n",
    "from keras import backend as k\n",
    "\n",
    "##---------------------------------------------##\n",
    "\n",
    "# Don't pre-allocate memory; allocate as-needed\n",
    "config = tf.ConfigProto()\n",
    "config.gpu_options.allow_growth = True\n",
    "\n",
    "##---------------------------------------------##\n",
    "\n",
    "# Create a session with the above options specified.\n",
    "k.tensorflow_backend.set_session(tf.Session(config=config))\n",
    "\n",
    "##---------------------------------------------##\n",
    "\n",
    "#Data handling libraries\n",
    "import numpy as np\n",
    "import pandas as spd\n",
    "\n",
    "##---------------------------------------------##\n",
    "\n",
    "#Image handling libraries\n",
    "import matplotlib\n",
    "import matplotlib.pyplot as plt\n",
    "\n",
    "##---------------------------------------------##\n",
    "\n",
    "# This is a bit of magic to make matplotlib figures appear inline in the notebook rather than in a new window.\n",
    "%matplotlib inline\n",
    "plt.rcParams['figure.figsize'] = (10, 8) # set default size of plots\n",
    "plt.rcParams['image.interpolation'] = 'nearest'\n",
    "plt.rcParams['image.cmap'] = 'gray'\n",
    "\n",
    "# Some more magic so that the notebook will reload external python modules;\n",
    "%load_ext autoreload\n",
    "%autoreload 2"
   ]
  },
  {
   "cell_type": "markdown",
   "metadata": {
    "colab_type": "text",
    "id": "UIuj5ry5TkOP"
   },
   "source": [
    "# 3. Exploratory Data Analysis\n",
    "\n"
   ]
  },
  {
   "cell_type": "markdown",
   "metadata": {
    "colab_type": "text",
    "id": "NIWLx-hXPswI"
   },
   "source": [
    "## Import and sample data"
   ]
  },
  {
   "cell_type": "code",
   "execution_count": 0,
   "metadata": {
    "colab": {
     "autoexec": {
      "startup": false,
      "wait_interval": 0
     }
    },
    "colab_type": "code",
    "id": "dHYu4jTBXqQk"
   },
   "outputs": [],
   "source": [
    "#Given data set is in csv format after unzipping.\n",
    "\n",
    "file = 'fer2013/fer2013.csv'\n",
    "df = spd.read_csv(file)"
   ]
  },
  {
   "cell_type": "code",
   "execution_count": 0,
   "metadata": {
    "colab": {
     "autoexec": {
      "startup": false,
      "wait_interval": 0
     }
    },
    "colab_type": "code",
    "id": "DAFTWtZtalD9"
   },
   "outputs": [],
   "source": [
    "#Assign separate data frames to training, cross-validation and test data\n",
    "\n",
    "#Training set\n",
    "tr_set = df.loc[df['Usage'] == 'Training']\n",
    "tr = tr_set.loc[:,'pixels']\n",
    "tr_labels = tr_set.loc[:,'emotion']\n",
    "\n",
    "#Cross-validation set\n",
    "cv_set = df.loc[df['Usage'] == 'PublicTest']\n",
    "cv = cv_set.loc[:,'pixels']\n",
    "cv_labels = cv_set.loc[:,'emotion']\n",
    "\n",
    "#Test set\n",
    "te_set = df.loc[df['Usage'] == 'PrivateTest']\n",
    "te = te_set.loc[:,'pixels']\n",
    "te_labels = te_set.loc[:,'emotion']"
   ]
  },
  {
   "cell_type": "markdown",
   "metadata": {
    "colab_type": "text",
    "id": "8A5_XG1xha4c"
   },
   "source": [
    "Lets randomly sample 5 images of each emotion from training dtaset"
   ]
  },
  {
   "cell_type": "code",
   "execution_count": 11,
   "metadata": {
    "colab": {
     "autoexec": {
      "startup": false,
      "wait_interval": 0
     },
     "base_uri": "https://localhost:8080/",
     "height": 498
    },
    "colab_type": "code",
    "executionInfo": {
     "elapsed": 4492,
     "status": "ok",
     "timestamp": 1530380596356,
     "user": {
      "displayName": "suraj b",
      "photoUrl": "https://lh3.googleusercontent.com/a/default-user=s128",
      "userId": "102683608279765749841"
     },
     "user_tz": -330
    },
    "id": "j1492a5B_9qr",
    "outputId": "a7b60c3e-34b8-4da8-84fe-266d6dc808b3"
   },
   "outputs": [
    {
     "data": {
      "image/png": "[encoded data removed]",
      "text/plain": [
       "<matplotlib.figure.Figure at 0x7fedb0e93898>"
      ]
     },
     "metadata": {
      "tags": []
     },
     "output_type": "display_data"
    }
   ],
   "source": [
    "tr_set_emotions_label = ['Angry','Disgust','Fear','Happy','Sad','Surprise','Neutral']\n",
    "\n",
    "#size of each class will be stored in this array\n",
    "t=np.zeros(np.size(tr_set_emotions_label)) \n",
    "\n",
    "#No. of images to sample from each class\n",
    "sample_size=5\n",
    "\n",
    "#Display those images\n",
    "for k,e in enumerate(tr_set_emotions_label):\n",
    "  this_emotion_set = df.loc[(df['Usage'] == 'Training') & (df['emotion'] == k)]\n",
    "  t[k] = this_emotion_set.size\n",
    "  x=this_emotion_set.sample(n=sample_size).loc[:,'pixels']\n",
    "  for i,j in enumerate(x):\n",
    "    plt.subplot(t.size, sample_size,(sample_size*k)+i+1)\n",
    "    y = j.split(' ')\n",
    "    x = np.array(y).reshape(48,48)\n",
    "    plt.axis('off')\n",
    "    plt.grid('off')\n",
    "    plt.imshow(x.astype('uint8'))\n",
    "    plt.title(e)"
   ]
  },
  {
   "cell_type": "markdown",
   "metadata": {
    "colab_type": "text",
    "id": "-vuNUl_8ho_z"
   },
   "source": [
    "## Inferences\n",
    "\n",
    "\n",
    "1.   The data provided is flattened/unrolled. To display them, we have to roll or reshape the vectors.\n",
    "2.   This dataset consists of faces of various expressions of all kinds of age, race and sex. That means the data is well generalized. \n",
    "3.   Faces in the images seemed to be centered. So, face detection and extraction can be skipped.\n",
    "4.   Images are in grey scale. That means fewer parameters.\n",
    "5.  Given the classes 'Surprise' and 'Happy', there might be high chance of misclassification. This is due to their high spatial corelation.\n",
    "\n",
    "Let's explore data distribution among various classes"
   ]
  },
  {
   "cell_type": "code",
   "execution_count": 12,
   "metadata": {
    "cellView": "code",
    "colab": {
     "autoexec": {
      "startup": false,
      "wait_interval": 0
     },
     "base_uri": "https://localhost:8080/",
     "height": 498
    },
    "colab_type": "code",
    "executionInfo": {
     "elapsed": 1441,
     "status": "ok",
     "timestamp": 1530380597915,
     "user": {
      "displayName": "suraj b",
      "photoUrl": "https://lh3.googleusercontent.com/a/default-user=s128",
      "userId": "102683608279765749841"
     },
     "user_tz": -330
    },
    "id": "Vzi_L1OpkFLt",
    "outputId": "ebbd0e6c-ee9a-4c34-cfd4-cc73e3df20df"
   },
   "outputs": [
    {
     "data": {
      "image/png": "[encoded data removed]",
      "text/plain": [
       "<matplotlib.figure.Figure at 0x7fedb0e8cf28>"
      ]
     },
     "metadata": {
      "tags": []
     },
     "output_type": "display_data"
    }
   ],
   "source": [
    "#Plotting no. of training examples vs their class\n",
    "plt.bar(tr_set_emotions_label, t)\n",
    "plt.ylabel('No. of training examples')\n",
    "plt.ylabel('Emotion')\n",
    "plt.title('Data Distribution among various classes')\n",
    "\n",
    "plt.show()  "
   ]
  },
  {
   "cell_type": "markdown",
   "metadata": {
    "colab_type": "text",
    "id": "RV0urASZoTYR"
   },
   "source": [
    "* It can be observed that the class 'Disgust' has very less number of training data. \n",
    "\n",
    "* And there is a high possibility of the model to predict 'Happy' if the training data isn't normalized.\n",
    "\n",
    "* This problem can be solved in various ways:\n",
    "\n",
    "  1.** Assigning weightage** for each class using Keras 'class_weight'. This is preferred.\n",
    "  \n",
    "  2.** Data augmentation** - Since the variation among the no. of training examples accross the classes is very high, using augmentation to just few classes to balance the data might not be a good idea. If we do that, there will be a rich variation in 'Happy' class and less variations in 'disgust' class and training over this data would be redundant. But applying Augmentation on all of the classes is a good idea.\n",
    "  \n",
    "  3.** Removing data** from other classes. Loss of data is not usually encouraged. \n",
    "\n",
    "  4.** Using GANs** : New training data can be created from the respective class's distribution. This is an option too.\n",
    "\n",
    "\n",
    "**NOTE : The labels on the x-axis are not in order of the labels 0-7**"
   ]
  },
  {
   "cell_type": "markdown",
   "metadata": {
    "colab_type": "text",
    "id": "3lLB_sx0PnXH"
   },
   "source": [
    "# 4. Data Pre-processing"
   ]
  },
  {
   "cell_type": "markdown",
   "metadata": {
    "colab_type": "text",
    "id": "Hp5t73ESKh4A"
   },
   "source": [
    "## Rolling the data\n",
    "The given data is in form of csv file. Here, we convert them into an array of images and sort them into train, validation and test data."
   ]
  },
  {
   "cell_type": "code",
   "execution_count": 13,
   "metadata": {
    "colab": {
     "autoexec": {
      "startup": false,
      "wait_interval": 0
     },
     "base_uri": "https://localhost:8080/",
     "height": 35
    },
    "colab_type": "code",
    "executionInfo": {
     "elapsed": 11697,
     "status": "ok",
     "timestamp": 1530380616263,
     "user": {
      "displayName": "suraj b",
      "photoUrl": "https://lh3.googleusercontent.com/a/default-user=s128",
      "userId": "102683608279765749841"
     },
     "user_tz": -330
    },
    "id": "u2Af9RxkKh3z",
    "outputId": "cc5cf7cf-62ca-4f12-8400-ca8ea9d5c45b"
   },
   "outputs": [
    {
     "name": "stdout",
     "output_type": "stream",
     "text": [
      "(28709, 48, 48, 1)\n"
     ]
    }
   ],
   "source": [
    "#train data\n",
    "tr_img = []\n",
    "tr_l = np.zeros((np.size(tr),np.size(t)))\n",
    "for p,i in enumerate(tr):\n",
    "    y = i.split(' ')\n",
    "    y = np.array(y).reshape(48,48,1)\n",
    "    tr_img.append(y)\n",
    "    tr_l[p,tr_labels[p]]=1\n",
    "tr_img = np.array(tr_img)\n",
    "print(tr_img.shape)"
   ]
  },
  {
   "cell_type": "code",
   "execution_count": 14,
   "metadata": {
    "colab": {
     "autoexec": {
      "startup": false,
      "wait_interval": 0
     },
     "base_uri": "https://localhost:8080/",
     "height": 35
    },
    "colab_type": "code",
    "executionInfo": {
     "elapsed": 2156,
     "status": "ok",
     "timestamp": 1530380618488,
     "user": {
      "displayName": "suraj b",
      "photoUrl": "https://lh3.googleusercontent.com/a/default-user=s128",
      "userId": "102683608279765749841"
     },
     "user_tz": -330
    },
    "id": "E2NDpAgtKh3r",
    "outputId": "95cf4df1-e455-4168-b46a-ddaf76c5a2ab"
   },
   "outputs": [
    {
     "name": "stdout",
     "output_type": "stream",
     "text": [
      "(3589, 48, 48, 1)\n"
     ]
    }
   ],
   "source": [
    "#cv data\n",
    "cv_img = []\n",
    "cv_l = np.zeros((np.size(cv),np.size(t)))\n",
    "for p,i in enumerate(cv):\n",
    "    y = i.split(' ')\n",
    "    y = np.array(y).reshape(48,48,1)\n",
    "    cv_img.append(y)\n",
    "    cv_l[p,cv_labels[np.size(tr)+p]] = 1\n",
    "cv_img = np.array(cv_img)\n",
    "print(cv_img.shape)"
   ]
  },
  {
   "cell_type": "code",
   "execution_count": 15,
   "metadata": {
    "colab": {
     "autoexec": {
      "startup": false,
      "wait_interval": 0
     },
     "base_uri": "https://localhost:8080/",
     "height": 35
    },
    "colab_type": "code",
    "executionInfo": {
     "elapsed": 2475,
     "status": "ok",
     "timestamp": 1530380621072,
     "user": {
      "displayName": "suraj b",
      "photoUrl": "https://lh3.googleusercontent.com/a/default-user=s128",
      "userId": "102683608279765749841"
     },
     "user_tz": -330
    },
    "id": "JEb7ZpcQKh3b",
    "outputId": "715a78a3-2ec5-4b53-c42b-c9370cc59ebe"
   },
   "outputs": [
    {
     "name": "stdout",
     "output_type": "stream",
     "text": [
      "(3589, 48, 48, 1)\n"
     ]
    }
   ],
   "source": [
    "#test data\n",
    "te_img = []\n",
    "te_l = np.zeros((np.size(te),np.size(t)))\n",
    "for p,i in enumerate(te):\n",
    "    y = i.split(' ')\n",
    "    y = np.array(y).reshape(48,48,1)\n",
    "    te_img.append(y)\n",
    "    te_l[p,te_labels[np.size(tr) + np.size(cv) + p]]=1\n",
    "te_img = np.array(te_img)\n",
    "print(te_img.shape)"
   ]
  },
  {
   "cell_type": "markdown",
   "metadata": {
    "colab_type": "text",
    "id": "rlss2DXvKh3Z"
   },
   "source": [
    "## Assigning weights to classes"
   ]
  },
  {
   "cell_type": "code",
   "execution_count": 16,
   "metadata": {
    "colab": {
     "autoexec": {
      "startup": false,
      "wait_interval": 0
     },
     "base_uri": "https://localhost:8080/",
     "height": 35
    },
    "colab_type": "code",
    "executionInfo": {
     "elapsed": 1596,
     "status": "ok",
     "timestamp": 1530380680007,
     "user": {
      "displayName": "suraj b",
      "photoUrl": "https://lh3.googleusercontent.com/a/default-user=s128",
      "userId": "102683608279765749841"
     },
     "user_tz": -330
    },
    "id": "VEvSdlhZKh2I",
    "outputId": "625affe1-e9e7-4e73-cede-ba88beaa4354"
   },
   "outputs": [
    {
     "name": "stdout",
     "output_type": "stream",
     "text": [
      "{0: 1.0, 1: 16.0, 2: 1.0, 3: 1.0, 4: 1.0, 5: 2.0, 6: 1.0}\n"
     ]
    }
   ],
   "source": [
    "#Finding the weightage to be given to each class\n",
    "class_weights_array = np.max(t)//t\n",
    "\n",
    "class_weight = dict(zip(np.arange(np.size(t)), class_weights_array))\n",
    "\n",
    "print(class_weight)"
   ]
  },
  {
   "cell_type": "markdown",
   "metadata": {
    "colab_type": "text",
    "id": "W9aliDT1Kh12"
   },
   "source": [
    "## Callbacks"
   ]
  },
  {
   "cell_type": "code",
   "execution_count": 0,
   "metadata": {
    "colab": {
     "autoexec": {
      "startup": false,
      "wait_interval": 0
     }
    },
    "colab_type": "code",
    "id": "lZiNHL8AKh0X"
   },
   "outputs": [],
   "source": [
    "# checkpoint\n",
    "from keras.callbacks import ModelCheckpoint, EarlyStopping\n",
    "filepath= \"weights-improvement-{epoch:02d}-{val_acc:.2f}.hdf5\"\n",
    "\n",
    "checkpoint = ModelCheckpoint(filepath, monitor='val_acc', verbose=1, save_best_only=True, save_weights_only=True, mode='max')\n",
    "\n",
    "earlyStopping = EarlyStopping(monitor='val_acc', min_delta=0.005, patience=8, verbose=0, mode='max')\n",
    "\n",
    "callbacks_list = [checkpoint,earlyStopping]\n"
   ]
  },
  {
   "cell_type": "markdown",
   "metadata": {
    "colab_type": "text",
    "id": "nRWFWrvyg9GI"
   },
   "source": [
    "## Data Augmentation"
   ]
  },
  {
   "cell_type": "code",
   "execution_count": 18,
   "metadata": {
    "colab": {
     "autoexec": {
      "startup": false,
      "wait_interval": 0
     },
     "base_uri": "https://localhost:8080/",
     "height": 35
    },
    "colab_type": "code",
    "executionInfo": {
     "elapsed": 60213,
     "status": "ok",
     "timestamp": 1530380752815,
     "user": {
      "displayName": "suraj b",
      "photoUrl": "https://lh3.googleusercontent.com/a/default-user=s128",
      "userId": "102683608279765749841"
     },
     "user_tz": -330
    },
    "id": "Hdx-MYAWJSID",
    "outputId": "6a31efce-8894-48e1-a165-fde788a2e2a8"
   },
   "outputs": [
    {
     "name": "stdout",
     "output_type": "stream",
     "text": [
      "Using real-time data augmentation.\n"
     ]
    }
   ],
   "source": [
    "print('Using real-time data augmentation.')\n",
    "\n",
    "from keras.preprocessing.image import ImageDataGenerator\n",
    "datagen = ImageDataGenerator( \n",
    "    rotation_range=15, \n",
    "    width_shift_range=0.1, \n",
    "    height_shift_range=0.1, \n",
    "    horizontal_flip=True) \n",
    "\n",
    "datagen.fit(tr_img)\n",
    "data_aug_x = datagen.flow(tr_img, tr_l, batch_size=64)"
   ]
  },
  {
   "cell_type": "markdown",
   "metadata": {
    "colab_type": "text",
    "id": "Q0kgrGwSdR_V"
   },
   "source": [
    "# 5. Acrhitecture"
   ]
  },
  {
   "cell_type": "markdown",
   "metadata": {
    "colab_type": "text",
    "id": "-MzS6hAZ5s6i"
   },
   "source": [
    "## Model"
   ]
  },
  {
   "cell_type": "markdown",
   "metadata": {
    "colab_type": "text",
    "id": "RkcVTQInz5EN"
   },
   "source": [
    "Few modifications are done to the network apart from the one specified in [zplure's](https://raw.githubusercontent.com/zlpure/Facial-Expression-Recognition/) repo so that it uses less parameters without compromising performance. The changes are:\n",
    "\n",
    "* **Convolutions** : \n",
    "  *  The latest trend is NOT to use fully connected layers and use convolution layers as much as possible. This way, the parameters used will be less and computation will be faster. I have eliminated the 2 **FC1024** fully connected layers at the bottom. \n",
    "  \n",
    "  * Seperable convolutions are used here. Eg : instead of 5 x 5, a pair of 5 x 1 and 1 x 5 are used. This way, the number of parameters drastically decrease. \n",
    "\n",
    "* **Filters** : Number of filters greatly affect no. of parameters. There must be good enough filters. Too many or too less affectes the accuracies. After few trail and errors, an optimal combination has been found.\n",
    "\n",
    "* **Dropout** : As the model is designed for performing on few parameters, it's better to use a small dropout. Here, a dropout of 0.1 is being used as opposed to 0.45 in the repo.\n",
    "\n",
    "* **Optimizer** : Adam optimizer is chosen for this problem. Initially, the default learning rate has been used. After 100th epoch, cyclic learning style has been implemented.\n",
    "\n",
    "* **Mini-batch size** : A multiple of 32 is preferred. Becasue GPU's allocate in blocks of 32. Based on the batch size, a block size near to the multiple of 32 is allocated. o, it's better to use a bacth size in multiples of 32s to use the compute power effectively. Used a batch size of 64 in this tutorial. \n",
    "\n",
    "<p align=\"center\">\n",
    "  <img src=\"https://github.com/suraj2596/EIP/blob/master/FINAL/architecture.png?raw=true\" width=\"350px\" height=\"600px\"/>\n",
    "</p>\n",
    "\n",
    "**OBSERVATIONS DRAWN FROM HYPERPARAMETER TUNING (MADE OVER 2000 EPOCHS)**\n",
    "* Using kernel size 3 turned out to be unproductive. The accuracy of the model did not increase ata ll from the beginning. This was observed for 20 epochs and then terminated.\n",
    "\n",
    "* Kernel size of 5 is used. This means few layers at the end have to be removed which decreased the parameters to 53k from 1M. Turns out 1M parameters was too much if only 1 dense/FC layer at the end is used.\n",
    "\n",
    "* There was a quick rise in accuracy in early epochs but saturated after 50%. Though running the epochs continously thereafter shows increase in accuracy, the rise is very slow. So, I have used cyclic learning rates.\n",
    "\n",
    "* Training the initial epochs on smaller images and furthering the training on actual images didn't have any affect on the smoothness of training. It's strange.\n"
   ]
  },
  {
   "cell_type": "code",
   "execution_count": 19,
   "metadata": {
    "colab": {
     "autoexec": {
      "startup": false,
      "wait_interval": 0
     },
     "base_uri": "https://localhost:8080/",
     "height": 863
    },
    "colab_type": "code",
    "executionInfo": {
     "elapsed": 2416,
     "status": "ok",
     "timestamp": 1530380755260,
     "user": {
      "displayName": "suraj b",
      "photoUrl": "https://lh3.googleusercontent.com/a/default-user=s128",
      "userId": "102683608279765749841"
     },
     "user_tz": -330
    },
    "id": "ErF3LCQreLzR",
    "outputId": "487058d1-f4df-40f4-debe-2ea12701de9d"
   },
   "outputs": [
    {
     "name": "stdout",
     "output_type": "stream",
     "text": [
      "_________________________________________________________________\n",
      "Layer (type)                 Output Shape              Param #   \n",
      "=================================================================\n",
      "separable_conv2d_1 (Separabl (None, 44, 48, 48)        101       \n",
      "_________________________________________________________________\n",
      "separable_conv2d_2 (Separabl (None, 44, 44, 48)        2592      \n",
      "_________________________________________________________________\n",
      "batch_normalization_1 (Batch (None, 44, 44, 48)        192       \n",
      "_________________________________________________________________\n",
      "separable_conv2d_3 (Separabl (None, 40, 44, 48)        2592      \n",
      "_________________________________________________________________\n",
      "separable_conv2d_4 (Separabl (None, 40, 40, 48)        2592      \n",
      "_________________________________________________________________\n",
      "max_pooling2d_1 (MaxPooling2 (None, 39, 39, 48)        0         \n",
      "_________________________________________________________________\n",
      "separable_conv2d_5 (Separabl (None, 35, 39, 96)        4944      \n",
      "_________________________________________________________________\n",
      "separable_conv2d_6 (Separabl (None, 35, 35, 96)        9792      \n",
      "_________________________________________________________________\n",
      "batch_normalization_2 (Batch (None, 35, 35, 96)        384       \n",
      "_________________________________________________________________\n",
      "separable_conv2d_7 (Separabl (None, 31, 35, 96)        9792      \n",
      "_________________________________________________________________\n",
      "separable_conv2d_8 (Separabl (None, 31, 31, 96)        9792      \n",
      "_________________________________________________________________\n",
      "max_pooling2d_2 (MaxPooling2 (None, 15, 15, 96)        0         \n",
      "_________________________________________________________________\n",
      "separable_conv2d_9 (Separabl (None, 11, 15, 198)       19686     \n",
      "_________________________________________________________________\n",
      "separable_conv2d_10 (Separab (None, 11, 11, 198)       40392     \n",
      "_________________________________________________________________\n",
      "batch_normalization_3 (Batch (None, 11, 11, 198)       792       \n",
      "_________________________________________________________________\n",
      "separable_conv2d_11 (Separab (None, 7, 11, 198)        40392     \n",
      "_________________________________________________________________\n",
      "separable_conv2d_12 (Separab (None, 7, 7, 198)         40392     \n",
      "_________________________________________________________________\n",
      "max_pooling2d_3 (MaxPooling2 (None, 3, 3, 198)         0         \n",
      "_________________________________________________________________\n",
      "flatten_1 (Flatten)          (None, 1782)              0         \n",
      "_________________________________________________________________\n",
      "dense_1 (Dense)              (None, 7)                 12481     \n",
      "=================================================================\n",
      "Total params: 196,908\n",
      "Trainable params: 196,224\n",
      "Non-trainable params: 684\n",
      "_________________________________________________________________\n"
     ]
    }
   ],
   "source": [
    "model = Sequential()\n",
    "\n",
    "f =48\n",
    "model.add(SeparableConv2D(f,(5,1),activation='relu', input_shape=(48,48,1)))\n",
    "model.add(SeparableConv2D(f,(1,5),activation='relu'))\n",
    "\n",
    "model.add(BatchNormalization())\n",
    "\n",
    "model.add(SeparableConv2D(f,(5,1),activation='relu'))\n",
    "model.add(SeparableConv2D(f,(1,5),activation='relu'))\n",
    "\n",
    "model.add(MaxPooling2D(pool_size=(2, 2), strides=(1, 1)))\n",
    "\n",
    "##\n",
    "\n",
    "f=96\n",
    "model.add(SeparableConv2D(f,(5,1),activation='relu'))\n",
    "model.add(SeparableConv2D(f,(1,5),activation='relu'))\n",
    "\n",
    "model.add(BatchNormalization())\n",
    "\n",
    "model.add(SeparableConv2D(f,(5,1),activation='relu'))\n",
    "model.add(SeparableConv2D(f,(1,5),activation='relu'))\n",
    "\n",
    "model.add(MaxPooling2D(pool_size=(2, 2), strides=(2, 2)))\n",
    "\n",
    "#model.add(Dropout(0.1))\n",
    "\n",
    "##\n",
    "\n",
    "f=198\n",
    "model.add(SeparableConv2D(f,(5,1),activation='relu'))\n",
    "model.add(SeparableConv2D(f,(1,5),activation='relu'))\n",
    "\n",
    "model.add(BatchNormalization())\n",
    "\n",
    "model.add(SeparableConv2D(f,(5,1),activation='relu'))\n",
    "model.add(SeparableConv2D(f,(1,5),activation='relu'))\n",
    "\n",
    "model.add(MaxPooling2D(pool_size=(2, 2), strides=(2, 2)))\n",
    "\n",
    "#model.add(Dropout(0.1))\n",
    "\n",
    "model.add(Flatten())\n",
    "model.add(Dense(7, activation='softmax'))\n",
    "\n",
    "model.summary()\n",
    "\n",
    "model.compile(loss='categorical_crossentropy', optimizer='adam', metrics=['accuracy'])"
   ]
  },
  {
   "cell_type": "markdown",
   "metadata": {
    "colab_type": "text",
    "id": "xdN2dlE1MzeJ"
   },
   "source": [
    "## Epochs 1-175"
   ]
  },
  {
   "cell_type": "markdown",
   "metadata": {
    "colab_type": "text",
    "id": "XpO5ZFeLOSJR"
   },
   "source": [
    "While running a model, how do you asses the model's performance rather than waiting till the last epoch? Is there a way to see how the model is performing as it is being trainied? The answer is yes! And this section covers few basic techniques to keep in mind to assess the model's performance.\n",
    "\n",
    "\n",
    "The performance of a model should be in the same level on new data as well as training data. Then we say the model has generalized well over the dataset. If it didn't generalize well, it'll lead to various problems.In one line, *monitoring the change of training accuracy and validation accuracy tells a lot about the model's training behaviour*\n",
    "\n",
    "The following points need to be monitored while running a model. \n",
    "\n",
    "---\n",
    "\n",
    "** > The difference between the training accuracy and validation accuracy starts increasing : *Overfitting* **  \n",
    "\n",
    "  * **Definition** : Overfitting means the model is trying to remember the training data to produce high training accuracy or less training error. When this happens, the model will perform poor on data which it hadn't seen earlier.\n",
    "  * **Reasons for a model to overfit and it's fixes** :\n",
    "    * **No. of Parameters** : If the nmber of parameters are more than necessary, model becomes very flexible and becomes capable of remembering the data. It's a good practice to start with parameters around 1 million and try running it for few epochs. Based on the performance, increase or decrease the parameters.\n",
    "    * **Regularization** : If you realise the model is if the model is overfitting after many epochs, you can add/increase dropout in the model rather than changing the no. of parameters itself. This way, dropout regularizes the models by trying to make it simpler.\n",
    "    * **Using Data Augmentation** : When data is augmented, ie, new data is created by minute perturbations, model becomes more robust to changes and generalizes well. This is usually if available data is less or the data has high spatial variations.\n",
    " \n",
    "\n",
    "** > Both training and validation accuracies are less : *Underfitting* **\n",
    "  * **Definition** : Undefitting means the model is unable to learn to fit the data. As a result, it'll perform poor on any new data too.\n",
    "  * **Reasons for a model to underfit and it's fixes** : It is just opposite to overfitting. Refer the above sections for the reasons and it's fixes\n",
    "  \n",
    "<br /><br />\n",
    "\n",
    "<p align=\"center\">\n",
    "  <img src=\"https://github.com/suraj2596/EIP/blob/master/FINAL/3.png?raw=true\" width=\"600px\" ><br />\n",
    "  <em>An intuition for overfitting v/s underfitting. One must note that a Neural network deals with much more high dimensional data as opposed to 2D data shown in the above figures</em><br /><br />\n",
    "</p>\n",
    "\n",
    "---\n",
    "**> If training or validation accuracy changes very slowly : Low value of learning rate**\n",
    "  *  **Reasons and it's fixes**\n",
    "    * When the learning rate is less, the accuracies change very slowly over epochs. There is nothing wrong in doing this except it takes a lot of time for the model to converge.\n",
    "    * Usually, the default learning rates for optimizers in Keras work fine in most of the cases. In case the learning rate has to be changed, specify it before compiling the model.    \n",
    "\n",
    "\n",
    "**> If training or validation accuracy fluctuate a lot : High value of learning rate**\n",
    "  *  **Reasons and it's fixes**\n",
    "    * When the learning rate is high, the accuracies start fluctuating at some point. This happens because it takes a bigger step when the model is near convergence. Due to this, the accuracies fluctuate.\n",
    "    * This would usually be the case after the model has ran multiple epochs. So, learning rates are reduced as we proceed down the no. of epochs. There are many ways the learning rates can be changed. They are called optimizers. In our case, we use Adam optimizer.\n",
    "\n",
    "<p align=\"center\">\n",
    "  <img src=\"https://github.com/suraj2596/EIP/blob/master/FINAL/4..gif?raw=true\" width=\"400px\" >\n",
    "  <img src=\"https://github.com/suraj2596/EIP/blob/master/FINAL/5..gif?raw=true\" width=\"400px\" ><br />\n",
    "  <em>Observe the red dots in the figures below. In case of left figure, it takes many iterations or epochs to converge to the minima. Inthe right figure, observe the fluctuation</em><br /><br />\n",
    "  \n",
    "</p>\n",
    "    \n",
    "If you want to know more about optimizers, [here](http://ruder.io/optimizing-gradient-descent/) is a good read."
   ]
  },
  {
   "cell_type": "markdown",
   "metadata": {
    "colab_type": "text",
    "id": "V-JWLt3axrR4"
   },
   "source": [
    "### Epoch 1-10\n",
    "**ASSESSMENT : Training and validation accuracies are closeby. Nothing to worry**"
   ]
  },
  {
   "cell_type": "code",
   "execution_count": 0,
   "metadata": {
    "colab": {
     "autoexec": {
      "startup": false,
      "wait_interval": 0
     },
     "base_uri": "https://localhost:8080/",
     "height": 732
    },
    "colab_type": "code",
    "executionInfo": {
     "elapsed": 944164,
     "status": "ok",
     "timestamp": 1529553243413,
     "user": {
      "displayName": "suraj bonagiri",
      "photoUrl": "//lh6.googleusercontent.com/-0F1W31o5q6E/AAAAAAAAAAI/AAAAAAAAA1c/XRzofGyVVA0/s50-c-k-no/photo.jpg",
      "userId": "117654023614571625344"
     },
     "user_tz": -330
    },
    "id": "j9pyixg3mZw_",
    "outputId": "01c2f281-7e32-4d6e-86aa-6b5c76cdce12"
   },
   "outputs": [
    {
     "name": "stdout",
     "output_type": "stream",
     "text": [
      "Epoch 1/10\n",
      "449/449 [==============================] - 94s 209ms/step - loss: 3.1383 - acc: 0.1339 - val_loss: 1.9261 - val_acc: 0.1688\n",
      "\n",
      "Epoch 00001: val_acc improved from -inf to 0.16885, saving model to weights-improvement-01-0.17.hdf5\n",
      "Epoch 2/10\n",
      "177/449 [==========>...................] - ETA: 51s - loss: 3.0982 - acc: 0.1723449/449 [==============================] - 91s 202ms/step - loss: 3.0474 - acc: 0.1721 - val_loss: 2.5576 - val_acc: 0.1162\n",
      "\n",
      "Epoch 00002: val_acc did not improve from 0.16885\n",
      "Epoch 3/10\n",
      "292/449 [==================>...........] - ETA: 29s - loss: 2.9708 - acc: 0.2004449/449 [==============================] - 91s 202ms/step - loss: 2.9319 - acc: 0.2150 - val_loss: 1.7657 - val_acc: 0.2884\n",
      "\n",
      "Epoch 00003: val_acc improved from 0.16885 to 0.28838, saving model to weights-improvement-03-0.29.hdf5\n",
      "Epoch 4/10\n",
      "271/449 [=================>............] - ETA: 33s - loss: 2.8788 - acc: 0.2515449/449 [==============================] - 91s 202ms/step - loss: 2.8471 - acc: 0.2642 - val_loss: 1.8095 - val_acc: 0.2901\n",
      "\n",
      "Epoch 00004: val_acc improved from 0.28838 to 0.29005, saving model to weights-improvement-04-0.29.hdf5\n",
      "Epoch 5/10\n",
      "266/449 [================>.............] - ETA: 34s - loss: 2.7967 - acc: 0.2855449/449 [==============================] - 91s 202ms/step - loss: 2.7776 - acc: 0.2892 - val_loss: 1.9967 - val_acc: 0.2469\n",
      "\n",
      "Epoch 00005: val_acc did not improve from 0.29005\n",
      "Epoch 6/10\n",
      "319/449 [====================>.........] - ETA: 24s - loss: 2.7247 - acc: 0.3127449/449 [==============================] - 91s 203ms/step - loss: 2.7061 - acc: 0.3154 - val_loss: 1.8233 - val_acc: 0.2898\n",
      "\n",
      "Epoch 00006: val_acc did not improve from 0.29005\n",
      "Epoch 7/10\n",
      "335/449 [=====================>........] - ETA: 21s - loss: 2.6601 - acc: 0.3353449/449 [==============================] - 91s 203ms/step - loss: 2.6597 - acc: 0.3353 - val_loss: 1.6206 - val_acc: 0.3789\n",
      "\n",
      "Epoch 00007: val_acc improved from 0.29005 to 0.37894, saving model to weights-improvement-07-0.38.hdf5\n",
      "Epoch 8/10\n",
      "281/449 [=================>............] - ETA: 31s - loss: 2.6042 - acc: 0.3516449/449 [==============================] - 91s 203ms/step - loss: 2.5824 - acc: 0.3542 - val_loss: 1.6452 - val_acc: 0.3600\n",
      "\n",
      "Epoch 00008: val_acc did not improve from 0.37894\n",
      "Epoch 9/10\n",
      "322/449 [====================>.........] - ETA: 23s - loss: 2.5188 - acc: 0.3695449/449 [==============================] - 91s 203ms/step - loss: 2.5225 - acc: 0.3725 - val_loss: 1.6965 - val_acc: 0.3435\n",
      "\n",
      "Epoch 00009: val_acc did not improve from 0.37894\n",
      "Epoch 10/10\n",
      "334/449 [=====================>........] - ETA: 21s - loss: 2.4758 - acc: 0.3867449/449 [==============================] - 91s 202ms/step - loss: 2.4757 - acc: 0.3855 - val_loss: 1.5856 - val_acc: 0.3901\n",
      "\n",
      "Epoch 00010: val_acc improved from 0.37894 to 0.39008, saving model to weights-improvement-10-0.39.hdf5\n"
     ]
    }
   ],
   "source": [
    "model.compile(loss='categorical_crossentropy', optimizer='adam', metrics=['accuracy'])\n",
    "\n",
    "epoch = 0\n",
    "model.fit_generator(data_aug_x, \n",
    "                    epochs=10,\n",
    "                    verbose=1,\n",
    "                    initial_epoch=epoch,\n",
    "                    callbacks=callbacks_list,\n",
    "                    validation_data=(cv_img, cv_l),\n",
    "                    class_weight = class_weight)\n",
    "\n",
    "!cp *.hdf5 $path_to_save"
   ]
  },
  {
   "cell_type": "markdown",
   "metadata": {
    "colab_type": "text",
    "id": "xvPym6BkxwbW"
   },
   "source": [
    "### Epoch 11-30\n",
    "**ASSESSMENT : Only validation accuracy is fluctuating near the end. But variation training accuracy seems to be smooth. This is due to the small size of validation set and the active learning of the model**"
   ]
  },
  {
   "cell_type": "code",
   "execution_count": 0,
   "metadata": {
    "colab": {
     "autoexec": {
      "startup": false,
      "wait_interval": 0
     },
     "base_uri": "https://localhost:8080/",
     "height": 1464
    },
    "colab_type": "code",
    "executionInfo": {
     "elapsed": 1816160,
     "status": "ok",
     "timestamp": 1529555864929,
     "user": {
      "displayName": "suraj bonagiri",
      "photoUrl": "//lh6.googleusercontent.com/-0F1W31o5q6E/AAAAAAAAAAI/AAAAAAAAA1c/XRzofGyVVA0/s50-c-k-no/photo.jpg",
      "userId": "117654023614571625344"
     },
     "user_tz": -330
    },
    "id": "ycgtSC5OJdMY",
    "outputId": "5f73acc5-63cb-4e3e-9e50-60d741d42dec"
   },
   "outputs": [
    {
     "name": "stdout",
     "output_type": "stream",
     "text": [
      "Epoch 11/30\n",
      "449/449 [==============================] - 91s 202ms/step - loss: 2.4302 - acc: 0.3986 - val_loss: 1.6574 - val_acc: 0.3722\n",
      "\n",
      "Epoch 00011: val_acc did not improve from 0.39008\n",
      "Epoch 12/30\n",
      "208/449 [============>.................] - ETA: 45s - loss: 2.3938 - acc: 0.4016449/449 [==============================] - 90s 201ms/step - loss: 2.3894 - acc: 0.4040 - val_loss: 1.5094 - val_acc: 0.4230\n",
      "\n",
      "Epoch 00012: val_acc improved from 0.39008 to 0.42296, saving model to weights-improvement-12-0.42.hdf5\n",
      "Epoch 13/30\n",
      "248/449 [===============>..............] - ETA: 37s - loss: 2.3837 - acc: 0.4131449/449 [==============================] - 91s 202ms/step - loss: 2.3463 - acc: 0.4176 - val_loss: 1.4536 - val_acc: 0.4450\n",
      "\n",
      "Epoch 00013: val_acc improved from 0.42296 to 0.44497, saving model to weights-improvement-13-0.44.hdf5\n",
      "Epoch 14/30\n",
      "259/449 [================>.............] - ETA: 35s - loss: 2.3075 - acc: 0.4292449/449 [==============================] - 91s 202ms/step - loss: 2.3148 - acc: 0.4291 - val_loss: 1.6376 - val_acc: 0.3823\n",
      "\n",
      "Epoch 00014: val_acc did not improve from 0.44497\n",
      "Epoch 15/30\n",
      "314/449 [===================>..........] - ETA: 25s - loss: 2.2730 - acc: 0.4362449/449 [==============================] - 91s 202ms/step - loss: 2.2782 - acc: 0.4378 - val_loss: 1.4914 - val_acc: 0.4344\n",
      "\n",
      "Epoch 00015: val_acc did not improve from 0.44497\n",
      "Epoch 16/30\n",
      "332/449 [=====================>........] - ETA: 21s - loss: 2.2634 - acc: 0.4366449/449 [==============================] - 91s 202ms/step - loss: 2.2621 - acc: 0.4386 - val_loss: 1.4527 - val_acc: 0.4391\n",
      "\n",
      "Epoch 00016: val_acc did not improve from 0.44497\n",
      "Epoch 17/30\n",
      "338/449 [=====================>........] - ETA: 20s - loss: 2.2191 - acc: 0.4502449/449 [==============================] - 91s 202ms/step - loss: 2.2196 - acc: 0.4504 - val_loss: 1.4337 - val_acc: 0.4681\n",
      "\n",
      "Epoch 00017: val_acc improved from 0.44497 to 0.46810, saving model to weights-improvement-17-0.47.hdf5\n",
      "Epoch 18/30\n",
      "282/449 [=================>............] - ETA: 31s - loss: 2.2047 - acc: 0.4480449/449 [==============================] - 91s 202ms/step - loss: 2.2016 - acc: 0.4537 - val_loss: 1.6667 - val_acc: 0.3881\n",
      "\n",
      "Epoch 00018: val_acc did not improve from 0.46810\n",
      "Epoch 19/30\n",
      "323/449 [====================>.........] - ETA: 23s - loss: 2.2085 - acc: 0.4523449/449 [==============================] - 91s 202ms/step - loss: 2.1979 - acc: 0.4540 - val_loss: 1.3750 - val_acc: 0.4843\n",
      "\n",
      "Epoch 00019: val_acc improved from 0.46810 to 0.48426, saving model to weights-improvement-19-0.48.hdf5\n",
      "Epoch 20/30\n",
      "278/449 [=================>............] - ETA: 32s - loss: 2.1399 - acc: 0.4625449/449 [==============================] - 91s 202ms/step - loss: 2.1493 - acc: 0.4632 - val_loss: 1.3938 - val_acc: 0.4823\n",
      "\n",
      "Epoch 00020: val_acc did not improve from 0.48426\n",
      "Epoch 21/30\n",
      "321/449 [====================>.........] - ETA: 24s - loss: 2.1367 - acc: 0.4650449/449 [==============================] - 91s 202ms/step - loss: 2.1509 - acc: 0.4642 - val_loss: 1.5652 - val_acc: 0.3912\n",
      "\n",
      "Epoch 00021: val_acc did not improve from 0.48426\n",
      "Epoch 22/30\n",
      "334/449 [=====================>........] - ETA: 21s - loss: 2.0950 - acc: 0.4712449/449 [==============================] - 91s 202ms/step - loss: 2.1258 - acc: 0.4670 - val_loss: 1.5723 - val_acc: 0.4171\n",
      "\n",
      "Epoch 00022: val_acc did not improve from 0.48426\n",
      "Epoch 23/30\n",
      "337/449 [=====================>........] - ETA: 21s - loss: 2.0986 - acc: 0.4718449/449 [==============================] - 91s 202ms/step - loss: 2.1145 - acc: 0.4719 - val_loss: 1.4426 - val_acc: 0.4642\n",
      "\n",
      "Epoch 00023: val_acc did not improve from 0.48426\n",
      "Epoch 24/30\n",
      "339/449 [=====================>........] - ETA: 20s - loss: 2.0747 - acc: 0.4776449/449 [==============================] - 91s 202ms/step - loss: 2.0744 - acc: 0.4805 - val_loss: 1.4522 - val_acc: 0.4792\n",
      "\n",
      "Epoch 00024: val_acc did not improve from 0.48426\n",
      "Epoch 25/30\n",
      "340/449 [=====================>........] - ETA: 20s - loss: 2.0934 - acc: 0.4812449/449 [==============================] - 91s 202ms/step - loss: 2.0840 - acc: 0.4801 - val_loss: 1.4836 - val_acc: 0.4500\n",
      "\n",
      "Epoch 00025: val_acc did not improve from 0.48426\n",
      "Epoch 26/30\n",
      "339/449 [=====================>........] - ETA: 20s - loss: 2.0447 - acc: 0.4855449/449 [==============================] - 91s 202ms/step - loss: 2.0476 - acc: 0.4858 - val_loss: 1.4143 - val_acc: 0.4826\n",
      "\n",
      "Epoch 00026: val_acc did not improve from 0.48426\n",
      "Epoch 27/30\n",
      "340/449 [=====================>........] - ETA: 20s - loss: 2.0295 - acc: 0.4856449/449 [==============================] - 91s 202ms/step - loss: 2.0326 - acc: 0.4852 - val_loss: 1.4877 - val_acc: 0.4586\n",
      "\n",
      "Epoch 00027: val_acc did not improve from 0.48426\n",
      "Epoch 28/30\n",
      "338/449 [=====================>........] - ETA: 20s - loss: 2.0195 - acc: 0.4925449/449 [==============================] - 91s 203ms/step - loss: 2.0277 - acc: 0.4898 - val_loss: 1.6888 - val_acc: 0.4143\n",
      "\n",
      "Epoch 00028: val_acc did not improve from 0.48426\n",
      "Epoch 29/30\n",
      "339/449 [=====================>........] - ETA: 20s - loss: 2.0121 - acc: 0.4969449/449 [==============================] - 91s 202ms/step - loss: 2.0074 - acc: 0.4962 - val_loss: 1.3508 - val_acc: 0.5063\n",
      "\n",
      "Epoch 00029: val_acc improved from 0.48426 to 0.50627, saving model to weights-improvement-29-0.51.hdf5\n",
      "Epoch 30/30\n",
      "281/449 [=================>............] - ETA: 31s - loss: 2.0093 - acc: 0.4945449/449 [==============================] - 91s 202ms/step - loss: 2.0029 - acc: 0.4970 - val_loss: 1.5496 - val_acc: 0.4205\n",
      "\n",
      "Epoch 00030: val_acc did not improve from 0.50627\n"
     ]
    },
    {
     "data": {
      "text/plain": [
       "<keras.callbacks.History at 0x7f658c58a438>"
      ]
     },
     "execution_count": 36,
     "metadata": {
      "tags": []
     },
     "output_type": "execute_result"
    }
   ],
   "source": [
    "model.load_weights('weights-improvement-10-0.39.hdf5')\n",
    "\n",
    "epoch=10\n",
    "model.fit_generator(data_aug_x, \n",
    "                    epochs=30,\n",
    "                    verbose=1,\n",
    "                    initial_epoch=epoch,\n",
    "                    callbacks=callbacks_list,\n",
    "                    validation_data=(cv_img, cv_l),\n",
    "                    class_weight = class_weight)\n",
    "\n",
    "!cp *.hdf5 $path_to_save"
   ]
  },
  {
   "cell_type": "markdown",
   "metadata": {
    "colab_type": "text",
    "id": "Noga8KXUx1WL"
   },
   "source": [
    "### Epoch 31-50\n",
    "**ASSESSMENT : Nothing to worry here too**"
   ]
  },
  {
   "cell_type": "code",
   "execution_count": 0,
   "metadata": {
    "colab": {
     "autoexec": {
      "startup": false,
      "wait_interval": 0
     },
     "base_uri": "https://localhost:8080/",
     "height": 1464
    },
    "colab_type": "code",
    "executionInfo": {
     "elapsed": 1820423,
     "status": "ok",
     "timestamp": 1529557713265,
     "user": {
      "displayName": "suraj bonagiri",
      "photoUrl": "//lh6.googleusercontent.com/-0F1W31o5q6E/AAAAAAAAAAI/AAAAAAAAA1c/XRzofGyVVA0/s50-c-k-no/photo.jpg",
      "userId": "117654023614571625344"
     },
     "user_tz": -330
    },
    "id": "OwIzN33aRqzE",
    "outputId": "65864720-6426-4be6-9aaf-3ad39ff35860"
   },
   "outputs": [
    {
     "name": "stdout",
     "output_type": "stream",
     "text": [
      "Epoch 31/50\n",
      "449/449 [==============================] - 91s 203ms/step - loss: 1.9873 - acc: 0.4960 - val_loss: 1.4338 - val_acc: 0.4765\n",
      "\n",
      "Epoch 00031: val_acc did not improve from 0.50627\n",
      "Epoch 32/50\n",
      "207/449 [============>.................] - ETA: 45s - loss: 1.9393 - acc: 0.5103449/449 [==============================] - 91s 203ms/step - loss: 1.9869 - acc: 0.4995 - val_loss: 1.3047 - val_acc: 0.5110\n",
      "\n",
      "Epoch 00032: val_acc improved from 0.50627 to 0.51101, saving model to weights-improvement-32-0.51.hdf5\n",
      "Epoch 33/50\n",
      "247/449 [===============>..............] - ETA: 38s - loss: 1.9379 - acc: 0.5045449/449 [==============================] - 91s 203ms/step - loss: 1.9601 - acc: 0.5030 - val_loss: 1.3373 - val_acc: 0.5157\n",
      "\n",
      "Epoch 00033: val_acc improved from 0.51101 to 0.51574, saving model to weights-improvement-33-0.52.hdf5\n",
      "Epoch 34/50\n",
      "258/449 [================>.............] - ETA: 35s - loss: 1.9365 - acc: 0.5100449/449 [==============================] - 91s 203ms/step - loss: 1.9556 - acc: 0.5061 - val_loss: 1.4084 - val_acc: 0.4781\n",
      "\n",
      "Epoch 00034: val_acc did not improve from 0.51574\n",
      "Epoch 35/50\n",
      "315/449 [====================>.........] - ETA: 25s - loss: 1.9264 - acc: 0.5120449/449 [==============================] - 91s 203ms/step - loss: 1.9266 - acc: 0.5096 - val_loss: 1.2825 - val_acc: 0.5274\n",
      "\n",
      "Epoch 00035: val_acc improved from 0.51574 to 0.52744, saving model to weights-improvement-35-0.53.hdf5\n",
      "Epoch 36/50\n",
      "275/449 [=================>............] - ETA: 32s - loss: 1.9416 - acc: 0.5055449/449 [==============================] - 91s 203ms/step - loss: 1.9369 - acc: 0.5096 - val_loss: 1.3507 - val_acc: 0.5060\n",
      "\n",
      "Epoch 00036: val_acc did not improve from 0.52744\n",
      "Epoch 37/50\n",
      "319/449 [====================>.........] - ETA: 24s - loss: 1.8919 - acc: 0.5131449/449 [==============================] - 91s 203ms/step - loss: 1.8939 - acc: 0.5156 - val_loss: 1.3576 - val_acc: 0.4990\n",
      "\n",
      "Epoch 00037: val_acc did not improve from 0.52744\n",
      "Epoch 38/50\n",
      "333/449 [=====================>........] - ETA: 21s - loss: 1.8795 - acc: 0.5148449/449 [==============================] - 91s 202ms/step - loss: 1.8903 - acc: 0.5162 - val_loss: 1.7247 - val_acc: 0.3773\n",
      "\n",
      "Epoch 00038: val_acc did not improve from 0.52744\n",
      "Epoch 39/50\n",
      "338/449 [=====================>........] - ETA: 20s - loss: 1.8768 - acc: 0.5190449/449 [==============================] - 91s 202ms/step - loss: 1.8971 - acc: 0.5143 - val_loss: 1.6916 - val_acc: 0.4107\n",
      "\n",
      "Epoch 00039: val_acc did not improve from 0.52744\n",
      "Epoch 40/50\n",
      "339/449 [=====================>........] - ETA: 20s - loss: 1.8798 - acc: 0.5170449/449 [==============================] - 91s 203ms/step - loss: 1.8792 - acc: 0.5179 - val_loss: 1.4113 - val_acc: 0.4882\n",
      "\n",
      "Epoch 00040: val_acc did not improve from 0.52744\n",
      "Epoch 41/50\n",
      "339/449 [=====================>........] - ETA: 20s - loss: 1.8704 - acc: 0.5233449/449 [==============================] - 91s 202ms/step - loss: 1.8657 - acc: 0.5219 - val_loss: 1.3143 - val_acc: 0.5261\n",
      "\n",
      "Epoch 00041: val_acc did not improve from 0.52744\n",
      "Epoch 42/50\n",
      "340/449 [=====================>........] - ETA: 20s - loss: 1.8483 - acc: 0.5256449/449 [==============================] - 91s 202ms/step - loss: 1.8546 - acc: 0.5244 - val_loss: 1.4011 - val_acc: 0.4773\n",
      "\n",
      "Epoch 00042: val_acc did not improve from 0.52744\n",
      "Epoch 43/50\n",
      "339/449 [=====================>........] - ETA: 20s - loss: 1.8338 - acc: 0.5280449/449 [==============================] - 91s 202ms/step - loss: 1.8484 - acc: 0.5259 - val_loss: 1.4274 - val_acc: 0.4792\n",
      "\n",
      "Epoch 00043: val_acc did not improve from 0.52744\n",
      "Epoch 44/50\n",
      "337/449 [=====================>........] - ETA: 21s - loss: 1.8345 - acc: 0.5288449/449 [==============================] - 91s 203ms/step - loss: 1.8313 - acc: 0.5290 - val_loss: 1.3399 - val_acc: 0.5166\n",
      "\n",
      "Epoch 00044: val_acc did not improve from 0.52744\n",
      "Epoch 45/50\n",
      "339/449 [=====================>........] - ETA: 20s - loss: 1.8086 - acc: 0.5307449/449 [==============================] - 91s 202ms/step - loss: 1.8044 - acc: 0.5323 - val_loss: 1.3713 - val_acc: 0.5038\n",
      "\n",
      "Epoch 00045: val_acc did not improve from 0.52744\n",
      "Epoch 46/50\n",
      "340/449 [=====================>........] - ETA: 20s - loss: 1.8061 - acc: 0.5322449/449 [==============================] - 91s 202ms/step - loss: 1.8137 - acc: 0.5301 - val_loss: 1.3438 - val_acc: 0.5180\n",
      "\n",
      "Epoch 00046: val_acc did not improve from 0.52744\n",
      "Epoch 47/50\n",
      "339/449 [=====================>........] - ETA: 20s - loss: 1.8007 - acc: 0.5370449/449 [==============================] - 91s 203ms/step - loss: 1.7949 - acc: 0.5360 - val_loss: 1.6023 - val_acc: 0.4068\n",
      "\n",
      "Epoch 00047: val_acc did not improve from 0.52744\n",
      "Epoch 48/50\n",
      "338/449 [=====================>........] - ETA: 20s - loss: 1.7647 - acc: 0.5450449/449 [==============================] - 91s 203ms/step - loss: 1.7750 - acc: 0.5414 - val_loss: 1.2218 - val_acc: 0.5403\n",
      "\n",
      "Epoch 00048: val_acc improved from 0.52744 to 0.54026, saving model to weights-improvement-48-0.54.hdf5\n",
      "Epoch 49/50\n",
      "280/449 [=================>............] - ETA: 31s - loss: 1.8009 - acc: 0.5338449/449 [==============================] - 91s 203ms/step - loss: 1.7892 - acc: 0.5375 - val_loss: 1.3674 - val_acc: 0.5007\n",
      "\n",
      "Epoch 00049: val_acc did not improve from 0.54026\n",
      "Epoch 50/50\n",
      "322/449 [====================>.........] - ETA: 23s - loss: 1.7687 - acc: 0.5443449/449 [==============================] - 91s 202ms/step - loss: 1.7737 - acc: 0.5416 - val_loss: 1.2439 - val_acc: 0.5358\n",
      "\n",
      "Epoch 00050: val_acc did not improve from 0.54026\n"
     ]
    },
    {
     "data": {
      "text/plain": [
       "<keras.callbacks.History at 0x7f658c58f710>"
      ]
     },
     "execution_count": 38,
     "metadata": {
      "tags": []
     },
     "output_type": "execute_result"
    }
   ],
   "source": [
    "model.load_weights('weights-improvement-29-0.51.hdf5')\n",
    "\n",
    "epoch = 30\n",
    "model.fit_generator(data_aug_x, \n",
    "                    epochs=50,\n",
    "                    verbose=1,\n",
    "                    initial_epoch=epoch,\n",
    "                    callbacks=callbacks_list,\n",
    "                    validation_data=(cv_img, cv_l),\n",
    "                    class_weight = class_weight)\n",
    "\n",
    "!cp *.hdf5 $path_to_save"
   ]
  },
  {
   "cell_type": "markdown",
   "metadata": {
    "colab_type": "text",
    "id": "42XAFgjqx6ZZ"
   },
   "source": [
    "### Epoch 51-70\n",
    "**ASSESSMENT : Very slight overfitting started to appear here. Let's wait few more epochs to address this problem. Thumb rule, take any action to rectify overfitting if the difference gradually increases and not due to fluctuations. Also, the difference must be more than 10%. This isn't a standard value. Just a measure I gained over experience.**"
   ]
  },
  {
   "cell_type": "code",
   "execution_count": 0,
   "metadata": {
    "colab": {
     "autoexec": {
      "startup": false,
      "wait_interval": 0
     },
     "base_uri": "https://localhost:8080/",
     "height": 1446
    },
    "colab_type": "code",
    "executionInfo": {
     "elapsed": 1832064,
     "status": "ok",
     "timestamp": 1529559642090,
     "user": {
      "displayName": "suraj bonagiri",
      "photoUrl": "//lh6.googleusercontent.com/-0F1W31o5q6E/AAAAAAAAAAI/AAAAAAAAA1c/XRzofGyVVA0/s50-c-k-no/photo.jpg",
      "userId": "117654023614571625344"
     },
     "user_tz": -330
    },
    "id": "elfz9L_6lzJv",
    "outputId": "92345071-8e0b-4eec-a6dd-dbc068f6a4a1"
   },
   "outputs": [
    {
     "name": "stdout",
     "output_type": "stream",
     "text": [
      "Epoch 51/70\n",
      "449/449 [==============================] - 91s 202ms/step - loss: 1.7646 - acc: 0.5402 - val_loss: 1.4448 - val_acc: 0.4798\n",
      "\n",
      "Epoch 00051: val_acc did not improve from 0.54026\n",
      "Epoch 52/70\n",
      "207/449 [============>.................] - ETA: 45s - loss: 1.7320 - acc: 0.5449449/449 [==============================] - 91s 203ms/step - loss: 1.7446 - acc: 0.5424 - val_loss: 1.2840 - val_acc: 0.5417\n",
      "\n",
      "Epoch 00052: val_acc improved from 0.54026 to 0.54166, saving model to weights-improvement-52-0.54.hdf5\n",
      "Epoch 53/70\n",
      "249/449 [===============>..............] - ETA: 37s - loss: 1.7891 - acc: 0.5376449/449 [==============================] - 91s 203ms/step - loss: 1.7854 - acc: 0.5387 - val_loss: 1.3046 - val_acc: 0.5219\n",
      "\n",
      "Epoch 00053: val_acc did not improve from 0.54166\n",
      "Epoch 54/70\n",
      "312/449 [===================>..........] - ETA: 25s - loss: 1.7379 - acc: 0.5462449/449 [==============================] - 91s 202ms/step - loss: 1.7468 - acc: 0.5444 - val_loss: 1.4170 - val_acc: 0.4876\n",
      "\n",
      "Epoch 00054: val_acc did not improve from 0.54166\n",
      "Epoch 55/70\n",
      "332/449 [=====================>........] - ETA: 22s - loss: 1.7488 - acc: 0.5469449/449 [==============================] - 91s 203ms/step - loss: 1.7437 - acc: 0.5485 - val_loss: 1.3082 - val_acc: 0.5249\n",
      "\n",
      "Epoch 00055: val_acc did not improve from 0.54166\n",
      "Epoch 56/70\n",
      "338/449 [=====================>........] - ETA: 20s - loss: 1.7488 - acc: 0.5443449/449 [==============================] - 91s 202ms/step - loss: 1.7301 - acc: 0.5493 - val_loss: 1.2116 - val_acc: 0.5508\n",
      "\n",
      "Epoch 00056: val_acc improved from 0.54166 to 0.55085, saving model to weights-improvement-56-0.55.hdf5\n",
      "Epoch 57/70\n",
      "281/449 [=================>............] - ETA: 31s - loss: 1.6892 - acc: 0.5610449/449 [==============================] - 91s 202ms/step - loss: 1.7245 - acc: 0.5534 - val_loss: 1.3610 - val_acc: 0.4987\n",
      "\n",
      "Epoch 00057: val_acc did not improve from 0.55085\n",
      "Epoch 58/70\n",
      "320/449 [====================>.........] - ETA: 24s - loss: 1.7166 - acc: 0.5460449/449 [==============================] - 91s 203ms/step - loss: 1.7282 - acc: 0.5457 - val_loss: 1.3082 - val_acc: 0.5196\n",
      "\n",
      "Epoch 00058: val_acc did not improve from 0.55085\n",
      "Epoch 59/70\n",
      "333/449 [=====================>........] - ETA: 21s - loss: 1.7022 - acc: 0.5530449/449 [==============================] - 91s 203ms/step - loss: 1.6988 - acc: 0.5552 - val_loss: 1.2318 - val_acc: 0.5344\n",
      "\n",
      "Epoch 00059: val_acc did not improve from 0.55085\n",
      "Epoch 60/70\n",
      "338/449 [=====================>........] - ETA: 20s - loss: 1.7160 - acc: 0.5529449/449 [==============================] - 91s 203ms/step - loss: 1.7142 - acc: 0.5527 - val_loss: 1.2646 - val_acc: 0.5447\n",
      "\n",
      "Epoch 00060: val_acc did not improve from 0.55085\n",
      "Epoch 61/70\n",
      "339/449 [=====================>........] - ETA: 20s - loss: 1.6747 - acc: 0.5578449/449 [==============================] - 91s 203ms/step - loss: 1.6682 - acc: 0.5580 - val_loss: 1.2703 - val_acc: 0.5350\n",
      "\n",
      "Epoch 00061: val_acc did not improve from 0.55085\n",
      "Epoch 62/70\n",
      "338/449 [=====================>........] - ETA: 20s - loss: 1.6763 - acc: 0.5615449/449 [==============================] - 91s 203ms/step - loss: 1.6892 - acc: 0.5556 - val_loss: 1.5459 - val_acc: 0.4815\n",
      "\n",
      "Epoch 00062: val_acc did not improve from 0.55085\n",
      "Epoch 63/70\n",
      "337/449 [=====================>........] - ETA: 21s - loss: 1.6726 - acc: 0.5663449/449 [==============================] - 91s 203ms/step - loss: 1.6683 - acc: 0.5673 - val_loss: 1.2741 - val_acc: 0.5520\n",
      "\n",
      "Epoch 00063: val_acc improved from 0.55085 to 0.55196, saving model to weights-improvement-63-0.55.hdf5\n",
      "Epoch 64/70\n",
      "280/449 [=================>............] - ETA: 31s - loss: 1.6467 - acc: 0.5638449/449 [==============================] - 91s 203ms/step - loss: 1.6590 - acc: 0.5642 - val_loss: 1.3296 - val_acc: 0.5160\n",
      "\n",
      "Epoch 00064: val_acc did not improve from 0.55196\n",
      "Epoch 65/70\n",
      "322/449 [====================>.........] - ETA: 23s - loss: 1.6545 - acc: 0.5633449/449 [==============================] - 91s 202ms/step - loss: 1.6520 - acc: 0.5620 - val_loss: 1.2564 - val_acc: 0.5330\n",
      "\n",
      "Epoch 00065: val_acc did not improve from 0.55196\n",
      "Epoch 66/70\n",
      "335/449 [=====================>........] - ETA: 21s - loss: 1.6299 - acc: 0.5697449/449 [==============================] - 91s 203ms/step - loss: 1.6423 - acc: 0.5668 - val_loss: 1.4182 - val_acc: 0.4976\n",
      "\n",
      "Epoch 00066: val_acc did not improve from 0.55196\n",
      "Epoch 67/70\n",
      "338/449 [=====================>........] - ETA: 20s - loss: 1.6359 - acc: 0.5704449/449 [==============================] - 91s 203ms/step - loss: 1.6445 - acc: 0.5693 - val_loss: 1.2870 - val_acc: 0.5277\n",
      "\n",
      "Epoch 00067: val_acc did not improve from 0.55196\n",
      "Epoch 68/70\n",
      "339/449 [=====================>........] - ETA: 20s - loss: 1.6464 - acc: 0.5638449/449 [==============================] - 91s 203ms/step - loss: 1.6410 - acc: 0.5657 - val_loss: 1.2387 - val_acc: 0.5514\n",
      "\n",
      "Epoch 00068: val_acc did not improve from 0.55196\n",
      "Epoch 69/70\n",
      "340/449 [=====================>........] - ETA: 20s - loss: 1.6023 - acc: 0.5709449/449 [==============================] - 91s 203ms/step - loss: 1.6213 - acc: 0.5687 - val_loss: 1.2781 - val_acc: 0.5311\n",
      "\n",
      "Epoch 00069: val_acc did not improve from 0.55196\n",
      "Epoch 70/70\n",
      "340/449 [=====================>........] - ETA: 20s - loss: 1.6245 - acc: 0.5734449/449 [==============================] - 91s 202ms/step - loss: 1.6448 - acc: 0.5671 - val_loss: 1.2568 - val_acc: 0.5224\n",
      "\n",
      "Epoch 00070: val_acc did not improve from 0.55196\n"
     ]
    }
   ],
   "source": [
    "model.load_weights('weights-improvement-48-0.54.hdf5')\n",
    "\n",
    "epoch = 50\n",
    "model.fit_generator(data_aug_x, \n",
    "                    epochs=70,\n",
    "                    verbose=1,\n",
    "                    initial_epoch=epoch,\n",
    "                    callbacks=callbacks_list,\n",
    "                    validation_data=(cv_img, cv_l),\n",
    "                    class_weight = class_weight)\n",
    "\n",
    "!cp *.hdf5 $path_to_save"
   ]
  },
  {
   "cell_type": "markdown",
   "metadata": {
    "colab_type": "text",
    "id": "JZzzU_nLkknq"
   },
   "source": [
    "### Epochs 71-80\n",
    "**ASSESSMENT : Good amount of learning has happened here. We are still good. Nothing to worry**"
   ]
  },
  {
   "cell_type": "code",
   "execution_count": 0,
   "metadata": {
    "colab": {
     "autoexec": {
      "startup": false,
      "wait_interval": 0
     },
     "base_uri": "https://localhost:8080/",
     "height": 732
    },
    "colab_type": "code",
    "executionInfo": {
     "elapsed": 950062,
     "status": "ok",
     "timestamp": 1529560805631,
     "user": {
      "displayName": "suraj bonagiri",
      "photoUrl": "//lh6.googleusercontent.com/-0F1W31o5q6E/AAAAAAAAAAI/AAAAAAAAA1c/XRzofGyVVA0/s50-c-k-no/photo.jpg",
      "userId": "117654023614571625344"
     },
     "user_tz": -330
    },
    "id": "U70XB5yOkj2O",
    "outputId": "99919ed6-83df-4902-d251-86be58141ff1"
   },
   "outputs": [
    {
     "name": "stdout",
     "output_type": "stream",
     "text": [
      "Epoch 71/80\n",
      "449/449 [==============================] - 94s 210ms/step - loss: 1.6484 - acc: 0.5652 - val_loss: 1.3410 - val_acc: 0.5116\n",
      "\n",
      "Epoch 00071: val_acc improved from -inf to 0.51156, saving model to weights-improvement-71-0.51.hdf5\n",
      "Epoch 72/80\n",
      "174/449 [==========>...................] - ETA: 52s - loss: 1.5977 - acc: 0.5789449/449 [==============================] - 92s 204ms/step - loss: 1.6562 - acc: 0.5626 - val_loss: 1.2905 - val_acc: 0.5327\n",
      "\n",
      "Epoch 00072: val_acc improved from 0.51156 to 0.53274, saving model to weights-improvement-72-0.53.hdf5\n",
      "Epoch 73/80\n",
      "239/449 [==============>...............] - ETA: 39s - loss: 1.6354 - acc: 0.5698449/449 [==============================] - 92s 204ms/step - loss: 1.6569 - acc: 0.5659 - val_loss: 1.2964 - val_acc: 0.5302\n",
      "\n",
      "Epoch 00073: val_acc did not improve from 0.53274\n",
      "Epoch 74/80\n",
      "306/449 [===================>..........] - ETA: 27s - loss: 1.6177 - acc: 0.5738449/449 [==============================] - 92s 204ms/step - loss: 1.6221 - acc: 0.5731 - val_loss: 1.3700 - val_acc: 0.5082\n",
      "\n",
      "Epoch 00074: val_acc did not improve from 0.53274\n",
      "Epoch 75/80\n",
      "326/449 [====================>.........] - ETA: 23s - loss: 1.6325 - acc: 0.5740449/449 [==============================] - 92s 205ms/step - loss: 1.6307 - acc: 0.5725 - val_loss: 1.3351 - val_acc: 0.5160\n",
      "\n",
      "Epoch 00075: val_acc did not improve from 0.53274\n",
      "Epoch 76/80\n",
      "331/449 [=====================>........] - ETA: 22s - loss: 1.6383 - acc: 0.5694449/449 [==============================] - 92s 205ms/step - loss: 1.6268 - acc: 0.5707 - val_loss: 1.2746 - val_acc: 0.5366\n",
      "\n",
      "Epoch 00076: val_acc improved from 0.53274 to 0.53664, saving model to weights-improvement-76-0.54.hdf5\n",
      "Epoch 77/80\n",
      "280/449 [=================>............] - ETA: 32s - loss: 1.6000 - acc: 0.5770449/449 [==============================] - 92s 205ms/step - loss: 1.6095 - acc: 0.5735 - val_loss: 1.3204 - val_acc: 0.5308\n",
      "\n",
      "Epoch 00077: val_acc did not improve from 0.53664\n",
      "Epoch 78/80\n",
      "319/449 [====================>.........] - ETA: 24s - loss: 1.6013 - acc: 0.5768449/449 [==============================] - 92s 204ms/step - loss: 1.6070 - acc: 0.5752 - val_loss: 1.2080 - val_acc: 0.5522\n",
      "\n",
      "Epoch 00078: val_acc improved from 0.53664 to 0.55224, saving model to weights-improvement-78-0.55.hdf5\n",
      "Epoch 79/80\n",
      "274/449 [=================>............] - ETA: 33s - loss: 1.5614 - acc: 0.5829449/449 [==============================] - 92s 205ms/step - loss: 1.5888 - acc: 0.5775 - val_loss: 1.2794 - val_acc: 0.5222\n",
      "\n",
      "Epoch 00079: val_acc did not improve from 0.55224\n",
      "Epoch 80/80\n",
      "318/449 [====================>.........] - ETA: 24s - loss: 1.5887 - acc: 0.5723449/449 [==============================] - 92s 205ms/step - loss: 1.5955 - acc: 0.5718 - val_loss: 1.1966 - val_acc: 0.5648\n",
      "\n",
      "Epoch 00080: val_acc improved from 0.55224 to 0.56478, saving model to weights-improvement-80-0.56.hdf5\n"
     ]
    }
   ],
   "source": [
    "model.load_weights('weights-improvement-63-0.55.hdf5')\n",
    "\n",
    "epoch = 70\n",
    "model.fit_generator(data_aug_x, \n",
    "                    epochs=80,\n",
    "                    verbose=1,\n",
    "                    initial_epoch=epoch,\n",
    "                    callbacks=callbacks_list,\n",
    "                    validation_data=(cv_img, cv_l),\n",
    "                    class_weight = class_weight)\n",
    "\n",
    "!cp *.hdf5 $path_to_save"
   ]
  },
  {
   "cell_type": "markdown",
   "metadata": {
    "colab_type": "text",
    "id": "Q85Idiibx_8P"
   },
   "source": [
    "### Epoch 81-100\n",
    "**ASSESSMENT : The learning seems to be capped. Let's reduce the learning rate from the next set of epochs.**"
   ]
  },
  {
   "cell_type": "code",
   "execution_count": 0,
   "metadata": {
    "colab": {
     "autoexec": {
      "startup": false,
      "wait_interval": 0
     },
     "base_uri": "https://localhost:8080/",
     "height": 1446
    },
    "colab_type": "code",
    "executionInfo": {
     "elapsed": 1850565,
     "status": "ok",
     "timestamp": 1529562804348,
     "user": {
      "displayName": "suraj bonagiri",
      "photoUrl": "//lh6.googleusercontent.com/-0F1W31o5q6E/AAAAAAAAAAI/AAAAAAAAA1c/XRzofGyVVA0/s50-c-k-no/photo.jpg",
      "userId": "117654023614571625344"
     },
     "user_tz": -330
    },
    "id": "Vy-VvVW4FpKf",
    "outputId": "d1c9b0e6-8ab9-40fb-8e31-6141ebc1f415"
   },
   "outputs": [
    {
     "name": "stdout",
     "output_type": "stream",
     "text": [
      "Epoch 81/100\n",
      "449/449 [==============================] - 92s 205ms/step - loss: 1.5933 - acc: 0.5769 - val_loss: 1.2578 - val_acc: 0.5497\n",
      "\n",
      "Epoch 00081: val_acc did not improve from 0.56478\n",
      "Epoch 82/100\n",
      "201/449 [============>.................] - ETA: 47s - loss: 1.5621 - acc: 0.5758449/449 [==============================] - 92s 205ms/step - loss: 1.5782 - acc: 0.5780 - val_loss: 1.4031 - val_acc: 0.5121\n",
      "\n",
      "Epoch 00082: val_acc did not improve from 0.56478\n",
      "Epoch 83/100\n",
      "293/449 [==================>...........] - ETA: 29s - loss: 1.5692 - acc: 0.5794449/449 [==============================] - 92s 205ms/step - loss: 1.5936 - acc: 0.5755 - val_loss: 1.5082 - val_acc: 0.4617\n",
      "\n",
      "Epoch 00083: val_acc did not improve from 0.56478\n",
      "Epoch 84/100\n",
      "320/449 [====================>.........] - ETA: 24s - loss: 1.5566 - acc: 0.5844449/449 [==============================] - 92s 205ms/step - loss: 1.5713 - acc: 0.5817 - val_loss: 1.2584 - val_acc: 0.5327\n",
      "\n",
      "Epoch 00084: val_acc did not improve from 0.56478\n",
      "Epoch 85/100\n",
      "330/449 [=====================>........] - ETA: 22s - loss: 1.5733 - acc: 0.5815449/449 [==============================] - 92s 204ms/step - loss: 1.5662 - acc: 0.5839 - val_loss: 1.2604 - val_acc: 0.5506\n",
      "\n",
      "Epoch 00085: val_acc did not improve from 0.56478\n",
      "Epoch 86/100\n",
      "331/449 [=====================>........] - ETA: 22s - loss: 1.5782 - acc: 0.5863449/449 [==============================] - 92s 204ms/step - loss: 1.5834 - acc: 0.5850 - val_loss: 1.2079 - val_acc: 0.5584\n",
      "\n",
      "Epoch 00086: val_acc did not improve from 0.56478\n",
      "Epoch 87/100\n",
      "334/449 [=====================>........] - ETA: 21s - loss: 1.5415 - acc: 0.5897449/449 [==============================] - 92s 204ms/step - loss: 1.5442 - acc: 0.5890 - val_loss: 1.2908 - val_acc: 0.5425\n",
      "\n",
      "Epoch 00087: val_acc did not improve from 0.56478\n",
      "Epoch 88/100\n",
      "328/449 [====================>.........] - ETA: 22s - loss: 1.5255 - acc: 0.5958449/449 [==============================] - 92s 205ms/step - loss: 1.5307 - acc: 0.5919 - val_loss: 1.2900 - val_acc: 0.5313\n",
      "\n",
      "Epoch 00088: val_acc did not improve from 0.56478\n",
      "Epoch 89/100\n",
      "332/449 [=====================>........] - ETA: 22s - loss: 1.5326 - acc: 0.5914449/449 [==============================] - 92s 204ms/step - loss: 1.5464 - acc: 0.5862 - val_loss: 1.2799 - val_acc: 0.5400\n",
      "\n",
      "Epoch 00089: val_acc did not improve from 0.56478\n",
      "Epoch 90/100\n",
      "333/449 [=====================>........] - ETA: 22s - loss: 1.5388 - acc: 0.5915449/449 [==============================] - 92s 205ms/step - loss: 1.5266 - acc: 0.5925 - val_loss: 1.2499 - val_acc: 0.5645\n",
      "\n",
      "Epoch 00090: val_acc did not improve from 0.56478\n",
      "Epoch 91/100\n",
      "334/449 [=====================>........] - ETA: 21s - loss: 1.5209 - acc: 0.5917449/449 [==============================] - 92s 205ms/step - loss: 1.5075 - acc: 0.5939 - val_loss: 1.2393 - val_acc: 0.5567\n",
      "\n",
      "Epoch 00091: val_acc did not improve from 0.56478\n",
      "Epoch 92/100\n",
      "334/449 [=====================>........] - ETA: 21s - loss: 1.5276 - acc: 0.5909449/449 [==============================] - 92s 205ms/step - loss: 1.5367 - acc: 0.5897 - val_loss: 1.2106 - val_acc: 0.5584\n",
      "\n",
      "Epoch 00092: val_acc did not improve from 0.56478\n",
      "Epoch 93/100\n",
      "333/449 [=====================>........] - ETA: 22s - loss: 1.5032 - acc: 0.5963449/449 [==============================] - 92s 204ms/step - loss: 1.5242 - acc: 0.5941 - val_loss: 1.2841 - val_acc: 0.5361\n",
      "\n",
      "Epoch 00093: val_acc did not improve from 0.56478\n",
      "Epoch 94/100\n",
      "332/449 [=====================>........] - ETA: 22s - loss: 1.5332 - acc: 0.5930449/449 [==============================] - 92s 204ms/step - loss: 1.5299 - acc: 0.5925 - val_loss: 1.2810 - val_acc: 0.5467\n",
      "\n",
      "Epoch 00094: val_acc did not improve from 0.56478\n",
      "Epoch 95/100\n",
      "335/449 [=====================>........] - ETA: 21s - loss: 1.5277 - acc: 0.5907449/449 [==============================] - 92s 204ms/step - loss: 1.5222 - acc: 0.5898 - val_loss: 1.3724 - val_acc: 0.5247\n",
      "\n",
      "Epoch 00095: val_acc did not improve from 0.56478\n",
      "Epoch 96/100\n",
      "332/449 [=====================>........] - ETA: 22s - loss: 1.5060 - acc: 0.5948449/449 [==============================] - 92s 204ms/step - loss: 1.5094 - acc: 0.5954 - val_loss: 1.2701 - val_acc: 0.5478\n",
      "\n",
      "Epoch 00096: val_acc did not improve from 0.56478\n",
      "Epoch 97/100\n",
      "334/449 [=====================>........] - ETA: 21s - loss: 1.4726 - acc: 0.6029449/449 [==============================] - 92s 205ms/step - loss: 1.4684 - acc: 0.6019 - val_loss: 1.2008 - val_acc: 0.5651\n",
      "\n",
      "Epoch 00097: val_acc improved from 0.56478 to 0.56506, saving model to weights-improvement-97-0.57.hdf5\n",
      "Epoch 98/100\n",
      "278/449 [=================>............] - ETA: 32s - loss: 1.4604 - acc: 0.6024449/449 [==============================] - 92s 205ms/step - loss: 1.4821 - acc: 0.6008 - val_loss: 1.2021 - val_acc: 0.5692\n",
      "\n",
      "Epoch 00098: val_acc improved from 0.56506 to 0.56924, saving model to weights-improvement-98-0.57.hdf5\n",
      "Epoch 99/100\n",
      "260/449 [================>.............] - ETA: 35s - loss: 1.4785 - acc: 0.6030449/449 [==============================] - 92s 204ms/step - loss: 1.4833 - acc: 0.6014 - val_loss: 1.2520 - val_acc: 0.5612\n",
      "\n",
      "Epoch 00099: val_acc did not improve from 0.56924\n",
      "Epoch 100/100\n",
      "307/449 [===================>..........] - ETA: 26s - loss: 1.4746 - acc: 0.6074449/449 [==============================] - 92s 205ms/step - loss: 1.4889 - acc: 0.6039 - val_loss: 1.2082 - val_acc: 0.5614\n",
      "\n",
      "Epoch 00100: val_acc did not improve from 0.56924\n"
     ]
    }
   ],
   "source": [
    "model.load_weights('weights-improvement-80-0.56.hdf5')\n",
    "epoch = 80\n",
    "model.fit_generator(data_aug_x, \n",
    "                    epochs=100,\n",
    "                    verbose=1,\n",
    "                    initial_epoch=epoch,\n",
    "                    callbacks=callbacks_list,\n",
    "                    validation_data=(cv_img, cv_l),\n",
    "                    class_weight = class_weight)\n",
    "\n",
    "!cp *.hdf5 $path_to_save"
   ]
  },
  {
   "cell_type": "markdown",
   "metadata": {
    "colab_type": "text",
    "id": "l9r7ywNiVCrB"
   },
   "source": [
    "### Epochs 100-120\n",
    "**ASSESSMENT : Changing learning rate proved to be effective.**"
   ]
  },
  {
   "cell_type": "markdown",
   "metadata": {
    "colab_type": "text",
    "id": "nV-GTuRHCGZu"
   },
   "source": [
    "* Started using EarlyStopping callback from this point. The function of this callback monitors the change in specified parameter, ie, in this case:\"val_acc\", and stops the training process if there isn't any considerable amount of change. \n",
    "* This is specifically used when we reduce the learning rate as it slows down the learning and stopping the process early is better if there isn't much learning. Then we could use a different learning rate and proceed."
   ]
  },
  {
   "cell_type": "code",
   "execution_count": 23,
   "metadata": {
    "colab": {
     "autoexec": {
      "startup": false,
      "wait_interval": 0
     },
     "base_uri": "https://localhost:8080/",
     "height": 1169
    },
    "colab_type": "code",
    "executionInfo": {
     "elapsed": 1452281,
     "status": "ok",
     "timestamp": 1530251025365,
     "user": {
      "displayName": "suraj b",
      "photoUrl": "https://lh3.googleusercontent.com/a/default-user=s128",
      "userId": "102683608279765749841"
     },
     "user_tz": -330
    },
    "id": "abrTcHVvKvzs",
    "outputId": "77512248-8ba9-449f-de84-48a80ac3fce6"
   },
   "outputs": [
    {
     "name": "stdout",
     "output_type": "stream",
     "text": [
      "Epoch 101/120\n",
      "449/449 [==============================] - 90s 200ms/step - loss: 1.3120 - acc: 0.6370 - val_loss: 1.3437 - val_acc: 0.5327\n",
      "\n",
      "Epoch 00101: val_acc improved from -inf to 0.53274, saving model to weights-improvement-101-0.53.hdf5\n",
      "Epoch 102/120\n",
      "170/449 [==========>...................] - ETA: 52s - loss: 1.2892 - acc: 0.6421449/449 [==============================] - 90s 201ms/step - loss: 1.2979 - acc: 0.6422 - val_loss: 1.2029 - val_acc: 0.5823\n",
      "\n",
      "Epoch 00102: val_acc improved from 0.53274 to 0.58233, saving model to weights-improvement-102-0.58.hdf5\n",
      "Epoch 103/120\n",
      "238/449 [==============>...............] - ETA: 39s - loss: 1.2848 - acc: 0.6435449/449 [==============================] - 90s 201ms/step - loss: 1.2923 - acc: 0.6436 - val_loss: 1.1988 - val_acc: 0.5851\n",
      "\n",
      "Epoch 00103: val_acc improved from 0.58233 to 0.58512, saving model to weights-improvement-103-0.59.hdf5\n",
      "Epoch 104/120\n",
      "255/449 [================>.............] - ETA: 36s - loss: 1.2814 - acc: 0.6447449/449 [==============================] - 90s 201ms/step - loss: 1.2799 - acc: 0.6462 - val_loss: 1.2745 - val_acc: 0.5809\n",
      "\n",
      "Epoch 00104: val_acc did not improve from 0.58512\n",
      "Epoch 105/120\n",
      "312/449 [===================>..........] - ETA: 25s - loss: 1.2748 - acc: 0.6461449/449 [==============================] - 90s 201ms/step - loss: 1.2762 - acc: 0.6474 - val_loss: 1.2034 - val_acc: 0.5832\n",
      "\n",
      "Epoch 00105: val_acc did not improve from 0.58512\n",
      "Epoch 106/120\n",
      "328/449 [====================>.........] - ETA: 22s - loss: 1.2511 - acc: 0.6540449/449 [==============================] - 90s 201ms/step - loss: 1.2565 - acc: 0.6543 - val_loss: 1.2565 - val_acc: 0.5787\n",
      "\n",
      "Epoch 00106: val_acc did not improve from 0.58512\n",
      "Epoch 107/120\n",
      "333/449 [=====================>........] - ETA: 21s - loss: 1.2555 - acc: 0.6552449/449 [==============================] - 90s 201ms/step - loss: 1.2558 - acc: 0.6549 - val_loss: 1.2351 - val_acc: 0.5756\n",
      "\n",
      "Epoch 00107: val_acc did not improve from 0.58512\n",
      "Epoch 108/120\n",
      "334/449 [=====================>........] - ETA: 21s - loss: 1.2630 - acc: 0.6507449/449 [==============================] - 90s 200ms/step - loss: 1.2632 - acc: 0.6501 - val_loss: 1.1855 - val_acc: 0.5874\n",
      "\n",
      "Epoch 00108: val_acc improved from 0.58512 to 0.58735, saving model to weights-improvement-108-0.59.hdf5\n",
      "Epoch 109/120\n",
      "278/449 [=================>............] - ETA: 31s - loss: 1.2308 - acc: 0.6593449/449 [==============================] - 90s 199ms/step - loss: 1.2435 - acc: 0.6545 - val_loss: 1.2149 - val_acc: 0.5915\n",
      "\n",
      "Epoch 00109: val_acc improved from 0.58735 to 0.59153, saving model to weights-improvement-109-0.59.hdf5\n",
      "Epoch 110/120\n",
      "265/449 [================>.............] - ETA: 34s - loss: 1.2527 - acc: 0.6537449/449 [==============================] - 90s 199ms/step - loss: 1.2422 - acc: 0.6567 - val_loss: 1.2732 - val_acc: 0.5729\n",
      "\n",
      "Epoch 00110: val_acc did not improve from 0.59153\n",
      "Epoch 111/120\n",
      "315/449 [====================>.........] - ETA: 25s - loss: 1.2615 - acc: 0.6551449/449 [==============================] - 89s 199ms/step - loss: 1.2546 - acc: 0.6544 - val_loss: 1.2108 - val_acc: 0.5890\n",
      "\n",
      "Epoch 00111: val_acc did not improve from 0.59153\n",
      "Epoch 112/120\n",
      "330/449 [=====================>........] - ETA: 22s - loss: 1.2201 - acc: 0.6593449/449 [==============================] - 89s 199ms/step - loss: 1.2241 - acc: 0.6578 - val_loss: 1.3131 - val_acc: 0.5550\n",
      "\n",
      "Epoch 00112: val_acc did not improve from 0.59153\n",
      "Epoch 113/120\n",
      "334/449 [=====================>........] - ETA: 21s - loss: 1.2238 - acc: 0.6604449/449 [==============================] - 89s 199ms/step - loss: 1.2236 - acc: 0.6597 - val_loss: 1.2934 - val_acc: 0.5899\n",
      "\n",
      "Epoch 00113: val_acc did not improve from 0.59153\n",
      "Epoch 114/120\n",
      "336/449 [=====================>........] - ETA: 21s - loss: 1.2197 - acc: 0.6623449/449 [==============================] - 89s 199ms/step - loss: 1.2120 - acc: 0.6624 - val_loss: 1.2650 - val_acc: 0.5807\n",
      "\n",
      "Epoch 00114: val_acc did not improve from 0.59153\n",
      "Epoch 115/120\n",
      "337/449 [=====================>........] - ETA: 20s - loss: 1.2137 - acc: 0.6612449/449 [==============================] - 89s 199ms/step - loss: 1.2237 - acc: 0.6580 - val_loss: 1.2508 - val_acc: 0.5773\n",
      "\n",
      "Epoch 00115: val_acc did not improve from 0.59153\n",
      "Epoch 116/120\n",
      "336/449 [=====================>........] - ETA: 21s - loss: 1.2198 - acc: 0.6596449/449 [==============================] - 89s 199ms/step - loss: 1.2299 - acc: 0.6576 - val_loss: 1.2852 - val_acc: 0.5592\n",
      "\n",
      "Epoch 00116: val_acc did not improve from 0.59153\n"
     ]
    }
   ],
   "source": [
    "adam = Adam(lr=0.0005)\n",
    "\n",
    "model.compile(loss='categorical_crossentropy',\n",
    "             optimizer=adam,\n",
    "             metrics=['accuracy'])\n",
    "\n",
    "model.load_weights('weights-improvement-97-0.58.hdf5')\n",
    "epoch = 100\n",
    "model.fit_generator(data_aug_x, \n",
    "                    epochs=120,\n",
    "                    verbose=1,\n",
    "                    initial_epoch=epoch,\n",
    "                    callbacks=callbacks_list,\n",
    "                    validation_data=(cv_img, cv_l),\n",
    "                    class_weight = class_weight)\n",
    "\n",
    "!cp *.hdf5 $path_to_save"
   ]
  },
  {
   "cell_type": "markdown",
   "metadata": {
    "colab_type": "text",
    "id": "nKe80BMN4Oe9"
   },
   "source": [
    "From epoch 108, we can see that there is not much change in validation accuracy but there is constant increase in training accuracy. Also, there is an increasing gap between training and validation accuracies which indicates overfitting. To solve this issue, cyclic learning rates can be used. Let's try using a learning rate of 0.003 ie 3 times the starting learning rate of Adam optimizer. This way, if the model got stuck in some local minima, it would come out. Then using smaller learning rates, we can proceed to global minimas"
   ]
  },
  {
   "cell_type": "markdown",
   "metadata": {
    "colab_type": "text",
    "id": "t1svvn8Liyqr"
   },
   "source": [
    "### Epochs 118-125\n",
    "**ASSESSMENT : It is natural to observe a huge change when the learning rate is increased suddenly. In other words, this is desirable and favourable change.**"
   ]
  },
  {
   "cell_type": "code",
   "execution_count": 26,
   "metadata": {
    "colab": {
     "autoexec": {
      "startup": false,
      "wait_interval": 0
     },
     "base_uri": "https://localhost:8080/",
     "height": 593
    },
    "colab_type": "code",
    "executionInfo": {
     "elapsed": 718235,
     "status": "ok",
     "timestamp": 1530252264274,
     "user": {
      "displayName": "suraj b",
      "photoUrl": "https://lh3.googleusercontent.com/a/default-user=s128",
      "userId": "102683608279765749841"
     },
     "user_tz": -330
    },
    "id": "5xrvI-Nji219",
    "outputId": "f6a416db-3793-48e1-8ed7-91e0cae79284"
   },
   "outputs": [
    {
     "name": "stdout",
     "output_type": "stream",
     "text": [
      "Epoch 118/125\n",
      "449/449 [==============================] - 91s 203ms/step - loss: 1.9241 - acc: 0.5234 - val_loss: 1.3469 - val_acc: 0.5093\n",
      "\n",
      "Epoch 00118: val_acc did not improve from 0.59153\n",
      "Epoch 119/125\n",
      "202/449 [============>.................] - ETA: 45s - loss: 1.8695 - acc: 0.5310449/449 [==============================] - 88s 197ms/step - loss: 1.8885 - acc: 0.5247 - val_loss: 1.5443 - val_acc: 0.4433\n",
      "\n",
      "Epoch 00119: val_acc did not improve from 0.59153\n",
      "Epoch 120/125\n",
      "296/449 [==================>...........] - ETA: 28s - loss: 1.8964 - acc: 0.5172449/449 [==============================] - 89s 197ms/step - loss: 1.9055 - acc: 0.5210 - val_loss: 1.3324 - val_acc: 0.5171\n",
      "\n",
      "Epoch 00120: val_acc did not improve from 0.59153\n",
      "Epoch 121/125\n",
      "324/449 [====================>.........] - ETA: 23s - loss: 1.9215 - acc: 0.5168449/449 [==============================] - 88s 197ms/step - loss: 1.9450 - acc: 0.5122 - val_loss: 1.5995 - val_acc: 0.4581\n",
      "\n",
      "Epoch 00121: val_acc did not improve from 0.59153\n",
      "Epoch 122/125\n",
      "331/449 [=====================>........] - ETA: 21s - loss: 1.8815 - acc: 0.5257449/449 [==============================] - 89s 197ms/step - loss: 1.8976 - acc: 0.5229 - val_loss: 1.8170 - val_acc: 0.3918\n",
      "\n",
      "Epoch 00122: val_acc did not improve from 0.59153\n",
      "Epoch 123/125\n",
      "335/449 [=====================>........] - ETA: 21s - loss: 1.9210 - acc: 0.5211449/449 [==============================] - 88s 196ms/step - loss: 1.9192 - acc: 0.5175 - val_loss: 1.5448 - val_acc: 0.4422\n",
      "\n",
      "Epoch 00123: val_acc did not improve from 0.59153\n",
      "Epoch 124/125\n",
      "335/449 [=====================>........] - ETA: 20s - loss: 1.8893 - acc: 0.5223449/449 [==============================] - 88s 196ms/step - loss: 1.9082 - acc: 0.5182 - val_loss: 1.4317 - val_acc: 0.4645\n",
      "\n",
      "Epoch 00124: val_acc did not improve from 0.59153\n",
      "Epoch 125/125\n",
      "336/449 [=====================>........] - ETA: 20s - loss: 1.9204 - acc: 0.5179449/449 [==============================] - 88s 196ms/step - loss: 1.9125 - acc: 0.5187 - val_loss: 1.3922 - val_acc: 0.4898\n",
      "\n",
      "Epoch 00125: val_acc did not improve from 0.59153\n"
     ]
    }
   ],
   "source": [
    "adam = Adam(lr=0.003)\n",
    "\n",
    "model.compile(loss='categorical_crossentropy',\n",
    "             optimizer=adam,\n",
    "             metrics=['accuracy'])\n",
    "\n",
    "\n",
    "model.load_weights('weights-improvement-109-0.59.hdf5')\n",
    "epoch = 117\n",
    "model.fit_generator(data_aug_x, \n",
    "                    epochs=125,\n",
    "                    verbose=1,\n",
    "                    initial_epoch=epoch,\n",
    "                    callbacks=callbacks_list,\n",
    "                    validation_data=(cv_img, cv_l),\n",
    "                    class_weight = class_weight)\n",
    "\n",
    "!cp *.hdf5 $path_to_save"
   ]
  },
  {
   "cell_type": "markdown",
   "metadata": {
    "colab_type": "text",
    "id": "8uPW2yHEqpqa"
   },
   "source": [
    "### Epochs 125-150\n",
    "**ASSESSMENT : Same fluctuations observed again. Seems like cyclic learning rates concept didn't have positive affect. I begin to suspect  the reason for the model to saturate in terms of accuracy is due to the less nubmer of parameters.**"
   ]
  },
  {
   "cell_type": "code",
   "execution_count": 27,
   "metadata": {
    "colab": {
     "autoexec": {
      "startup": false,
      "wait_interval": 0
     },
     "base_uri": "https://localhost:8080/",
     "height": 1097
    },
    "colab_type": "code",
    "executionInfo": {
     "elapsed": 1344544,
     "status": "ok",
     "timestamp": 1530254203945,
     "user": {
      "displayName": "suraj b",
      "photoUrl": "https://lh3.googleusercontent.com/a/default-user=s128",
      "userId": "102683608279765749841"
     },
     "user_tz": -330
    },
    "id": "NY8j9VHqquzk",
    "outputId": "34cda00d-169c-4844-e9a4-bb422ed586e8"
   },
   "outputs": [
    {
     "name": "stdout",
     "output_type": "stream",
     "text": [
      "Epoch 141/175\n",
      "449/449 [==============================] - 91s 203ms/step - loss: 1.3374 - acc: 0.6388 - val_loss: 1.2483 - val_acc: 0.5631\n",
      "\n",
      "Epoch 00141: val_acc did not improve from 0.59153\n",
      "Epoch 142/175\n",
      "202/449 [============>.................] - ETA: 46s - loss: 1.3224 - acc: 0.6369449/449 [==============================] - 89s 199ms/step - loss: 1.3430 - acc: 0.6323 - val_loss: 1.2502 - val_acc: 0.5740\n",
      "\n",
      "Epoch 00142: val_acc did not improve from 0.59153\n",
      "Epoch 143/175\n",
      "296/449 [==================>...........] - ETA: 28s - loss: 1.3628 - acc: 0.6359449/449 [==============================] - 89s 199ms/step - loss: 1.3715 - acc: 0.6329 - val_loss: 1.2157 - val_acc: 0.5740\n",
      "\n",
      "Epoch 00143: val_acc did not improve from 0.59153\n",
      "Epoch 144/175\n",
      "324/449 [====================>.........] - ETA: 23s - loss: 1.3608 - acc: 0.6327449/449 [==============================] - 89s 198ms/step - loss: 1.3852 - acc: 0.6272 - val_loss: 1.2707 - val_acc: 0.5628\n",
      "\n",
      "Epoch 00144: val_acc did not improve from 0.59153\n",
      "Epoch 145/175\n",
      "331/449 [=====================>........] - ETA: 21s - loss: 1.3332 - acc: 0.6363449/449 [==============================] - 89s 198ms/step - loss: 1.3482 - acc: 0.6324 - val_loss: 1.2822 - val_acc: 0.5581\n",
      "\n",
      "Epoch 00145: val_acc did not improve from 0.59153\n",
      "Epoch 146/175\n",
      "335/449 [=====================>........] - ETA: 21s - loss: 1.3588 - acc: 0.6317449/449 [==============================] - 89s 198ms/step - loss: 1.3601 - acc: 0.6303 - val_loss: 1.2941 - val_acc: 0.5564\n",
      "\n",
      "Epoch 00146: val_acc did not improve from 0.59153\n",
      "Epoch 147/175\n",
      "336/449 [=====================>........] - ETA: 21s - loss: 1.3304 - acc: 0.6378449/449 [==============================] - 89s 198ms/step - loss: 1.3326 - acc: 0.6363 - val_loss: 1.1895 - val_acc: 0.5823\n",
      "\n",
      "Epoch 00147: val_acc did not improve from 0.59153\n",
      "Epoch 148/175\n",
      "335/449 [=====================>........] - ETA: 21s - loss: 1.3157 - acc: 0.6352449/449 [==============================] - 89s 198ms/step - loss: 1.3503 - acc: 0.6284 - val_loss: 1.3341 - val_acc: 0.5255\n",
      "\n",
      "Epoch 00148: val_acc did not improve from 0.59153\n",
      "Epoch 149/175\n",
      "336/449 [=====================>........] - ETA: 21s - loss: 1.4062 - acc: 0.6205449/449 [==============================] - 89s 198ms/step - loss: 1.3844 - acc: 0.6240 - val_loss: 1.3020 - val_acc: 0.5598\n",
      "\n",
      "Epoch 00149: val_acc did not improve from 0.59153\n",
      "Epoch 150/175\n",
      "336/449 [=====================>........] - ETA: 20s - loss: 1.3171 - acc: 0.6409449/449 [==============================] - 89s 197ms/step - loss: 1.3240 - acc: 0.6394 - val_loss: 1.2588 - val_acc: 0.5740\n",
      "\n",
      "Epoch 00150: val_acc did not improve from 0.59153\n",
      "Epoch 151/175\n",
      "336/449 [=====================>........] - ETA: 20s - loss: 1.3809 - acc: 0.6273449/449 [==============================] - 89s 197ms/step - loss: 1.3816 - acc: 0.6256 - val_loss: 1.2836 - val_acc: 0.5508\n",
      "\n",
      "Epoch 00151: val_acc did not improve from 0.59153\n",
      "Epoch 152/175\n",
      "336/449 [=====================>........] - ETA: 20s - loss: 1.3447 - acc: 0.6360449/449 [==============================] - 89s 197ms/step - loss: 1.3386 - acc: 0.6373 - val_loss: 1.3078 - val_acc: 0.5617\n",
      "\n",
      "Epoch 00152: val_acc did not improve from 0.59153\n",
      "Epoch 153/175\n",
      "336/449 [=====================>........] - ETA: 20s - loss: 1.3483 - acc: 0.6368449/449 [==============================] - 89s 197ms/step - loss: 1.3440 - acc: 0.6366 - val_loss: 1.2311 - val_acc: 0.5637\n",
      "\n",
      "Epoch 00153: val_acc did not improve from 0.59153\n",
      "Epoch 154/175\n",
      "336/449 [=====================>........] - ETA: 20s - loss: 1.2942 - acc: 0.6435449/449 [==============================] - 89s 197ms/step - loss: 1.3158 - acc: 0.6413 - val_loss: 1.2204 - val_acc: 0.5623\n",
      "\n",
      "Epoch 00154: val_acc did not improve from 0.59153\n",
      "Epoch 155/175\n",
      "336/449 [=====================>........] - ETA: 20s - loss: 1.3722 - acc: 0.6286449/449 [==============================] - 89s 198ms/step - loss: 1.3509 - acc: 0.6336 - val_loss: 1.2871 - val_acc: 0.5536\n",
      "\n",
      "Epoch 00155: val_acc did not improve from 0.59153\n"
     ]
    }
   ],
   "source": [
    "adam = Adam(lr=0.001)\n",
    "\n",
    "model.compile(loss='categorical_crossentropy',\n",
    "             optimizer='adam',\n",
    "             metrics=['accuracy'])\n",
    "\n",
    "\n",
    "model.load_weights('weights-improvement-109-0.59.hdf5')\n",
    "epoch = 140\n",
    "model.fit_generator(data_aug_x, \n",
    "                    epochs=175,\n",
    "                    verbose=1,\n",
    "                    initial_epoch=epoch,\n",
    "                    callbacks=callbacks_list,\n",
    "                    validation_data=(cv_img, cv_l),\n",
    "                    class_weight = class_weight)\n",
    "\n",
    "!cp *.hdf5 $path_to_save"
   ]
  },
  {
   "cell_type": "markdown",
   "metadata": {
    "colab_type": "text",
    "id": "ZXTthQDh4XvY"
   },
   "source": [
    "### Epochs 155-166\n",
    "**ASSESSMENT : Almost overfitting. Let's run for few more epochs to confirm overfitting**"
   ]
  },
  {
   "cell_type": "code",
   "execution_count": 28,
   "metadata": {
    "colab": {
     "autoexec": {
      "startup": false,
      "wait_interval": 0
     },
     "base_uri": "https://localhost:8080/",
     "height": 809
    },
    "colab_type": "code",
    "executionInfo": {
     "elapsed": 1010990,
     "status": "ok",
     "timestamp": 1530255550402,
     "user": {
      "displayName": "suraj b",
      "photoUrl": "https://lh3.googleusercontent.com/a/default-user=s128",
      "userId": "102683608279765749841"
     },
     "user_tz": -330
    },
    "id": "B9RUYOXZ1ixs",
    "outputId": "8955fc5f-4d1c-4af4-a17c-5fb79176a679"
   },
   "outputs": [
    {
     "name": "stdout",
     "output_type": "stream",
     "text": [
      "Epoch 156/170\n",
      "449/449 [==============================] - 92s 205ms/step - loss: 1.2349 - acc: 0.6546 - val_loss: 1.2270 - val_acc: 0.5818\n",
      "\n",
      "Epoch 00156: val_acc did not improve from 0.59153\n",
      "Epoch 157/170\n",
      "202/449 [============>.................] - ETA: 47s - loss: 1.2596 - acc: 0.6504449/449 [==============================] - 91s 203ms/step - loss: 1.2495 - acc: 0.6536 - val_loss: 1.2579 - val_acc: 0.5717\n",
      "\n",
      "Epoch 00157: val_acc did not improve from 0.59153\n",
      "Epoch 158/170\n",
      "292/449 [==================>...........] - ETA: 29s - loss: 1.2484 - acc: 0.6558449/449 [==============================] - 91s 203ms/step - loss: 1.2323 - acc: 0.6573 - val_loss: 1.2289 - val_acc: 0.5913\n",
      "\n",
      "Epoch 00158: val_acc did not improve from 0.59153\n",
      "Epoch 159/170\n",
      "320/449 [====================>.........] - ETA: 24s - loss: 1.2252 - acc: 0.6594449/449 [==============================] - 91s 203ms/step - loss: 1.2316 - acc: 0.6593 - val_loss: 1.2549 - val_acc: 0.5726\n",
      "\n",
      "Epoch 00159: val_acc did not improve from 0.59153\n",
      "Epoch 160/170\n",
      "331/449 [=====================>........] - ETA: 22s - loss: 1.2157 - acc: 0.6609449/449 [==============================] - 91s 203ms/step - loss: 1.2169 - acc: 0.6615 - val_loss: 1.2910 - val_acc: 0.5667\n",
      "\n",
      "Epoch 00160: val_acc did not improve from 0.59153\n",
      "Epoch 161/170\n",
      "333/449 [=====================>........] - ETA: 22s - loss: 1.2407 - acc: 0.6582449/449 [==============================] - 91s 202ms/step - loss: 1.2419 - acc: 0.6564 - val_loss: 1.2437 - val_acc: 0.5812\n",
      "\n",
      "Epoch 00161: val_acc did not improve from 0.59153\n",
      "Epoch 162/170\n",
      "335/449 [=====================>........] - ETA: 21s - loss: 1.2192 - acc: 0.6625449/449 [==============================] - 91s 202ms/step - loss: 1.2145 - acc: 0.6624 - val_loss: 1.2349 - val_acc: 0.5954\n",
      "\n",
      "Epoch 00162: val_acc improved from 0.59153 to 0.59543, saving model to weights-improvement-162-0.60.hdf5\n",
      "Epoch 163/170\n",
      "279/449 [=================>............] - ETA: 32s - loss: 1.1968 - acc: 0.6649449/449 [==============================] - 91s 202ms/step - loss: 1.1966 - acc: 0.6650 - val_loss: 1.3021 - val_acc: 0.5642\n",
      "\n",
      "Epoch 00163: val_acc did not improve from 0.59543\n",
      "Epoch 164/170\n",
      "319/449 [====================>.........] - ETA: 24s - loss: 1.2235 - acc: 0.6657449/449 [==============================] - 91s 202ms/step - loss: 1.2253 - acc: 0.6634 - val_loss: 1.2237 - val_acc: 0.5801\n",
      "\n",
      "Epoch 00164: val_acc did not improve from 0.59543\n",
      "Epoch 165/170\n",
      "330/449 [=====================>........] - ETA: 22s - loss: 1.2106 - acc: 0.6638449/449 [==============================] - 91s 202ms/step - loss: 1.2064 - acc: 0.6648 - val_loss: 1.2929 - val_acc: 0.5829\n",
      "\n",
      "Epoch 00165: val_acc did not improve from 0.59543\n",
      "Epoch 166/170\n",
      "333/449 [=====================>........] - ETA: 22s - loss: 1.1910 - acc: 0.6671449/449 [==============================] - 91s 202ms/step - loss: 1.1976 - acc: 0.6656 - val_loss: 1.3310 - val_acc: 0.5795\n",
      "\n",
      "Epoch 00166: val_acc did not improve from 0.59543\n"
     ]
    }
   ],
   "source": [
    "adam = Adam(lr=0.0005)\n",
    "\n",
    "model.compile(loss='categorical_crossentropy',\n",
    "             optimizer=adam,\n",
    "             metrics=['accuracy'])\n",
    "\n",
    "model.load_weights('weights-improvement-109-0.59.hdf5')\n",
    "epoch = 155\n",
    "model.fit_generator(data_aug_x, \n",
    "                    epochs=170,\n",
    "                    verbose=1,\n",
    "                    initial_epoch=epoch,\n",
    "                    callbacks=callbacks_list,\n",
    "                    validation_data=(cv_img, cv_l),\n",
    "                    class_weight = class_weight)\n",
    "\n",
    "!cp *.hdf5 $path_to_save"
   ]
  },
  {
   "cell_type": "markdown",
   "metadata": {
    "colab_type": "text",
    "id": "yTxTM4YGoyyu"
   },
   "source": [
    "### Epochs 166-180\n",
    "**ASSESSMENT : The model seems to have reached it's capacity. Going any further will overfit the model. One way to avoid this is to remove dropout entirely. But previous versions didn't show much change.**"
   ]
  },
  {
   "cell_type": "code",
   "execution_count": 32,
   "metadata": {
    "colab": {
     "autoexec": {
      "startup": false,
      "wait_interval": 0
     },
     "base_uri": "https://localhost:8080/",
     "height": 1025
    },
    "colab_type": "code",
    "executionInfo": {
     "elapsed": 1264890,
     "status": "ok",
     "timestamp": 1530259571903,
     "user": {
      "displayName": "suraj b",
      "photoUrl": "https://lh3.googleusercontent.com/a/default-user=s128",
      "userId": "102683608279765749841"
     },
     "user_tz": -330
    },
    "id": "wTtW69MxW2Ef",
    "outputId": "c4cc0838-e044-47a3-e5fc-9b88b16b3027"
   },
   "outputs": [
    {
     "name": "stdout",
     "output_type": "stream",
     "text": [
      "Epoch 167/180\n",
      "449/449 [==============================] - 92s 204ms/step - loss: 1.2280 - acc: 0.6617 - val_loss: 1.2337 - val_acc: 0.5770\n",
      "\n",
      "Epoch 00167: val_acc did not improve from 0.59571\n",
      "Epoch 168/180\n",
      "202/449 [============>.................] - ETA: 46s - loss: 1.1911 - acc: 0.6679449/449 [==============================] - 90s 200ms/step - loss: 1.2029 - acc: 0.6658 - val_loss: 1.2578 - val_acc: 0.5918\n",
      "\n",
      "Epoch 00168: val_acc did not improve from 0.59571\n",
      "Epoch 169/180\n",
      "295/449 [==================>...........] - ETA: 28s - loss: 1.1894 - acc: 0.6686449/449 [==============================] - 89s 199ms/step - loss: 1.1986 - acc: 0.6669 - val_loss: 1.2929 - val_acc: 0.5832\n",
      "\n",
      "Epoch 00169: val_acc did not improve from 0.59571\n",
      "Epoch 170/180\n",
      "324/449 [====================>.........] - ETA: 23s - loss: 1.2064 - acc: 0.6696449/449 [==============================] - 89s 199ms/step - loss: 1.2046 - acc: 0.6687 - val_loss: 1.2356 - val_acc: 0.5854\n",
      "\n",
      "Epoch 00170: val_acc did not improve from 0.59571\n",
      "Epoch 171/180\n",
      "331/449 [=====================>........] - ETA: 22s - loss: 1.2030 - acc: 0.6650449/449 [==============================] - 89s 199ms/step - loss: 1.1966 - acc: 0.6653 - val_loss: 1.3346 - val_acc: 0.5726\n",
      "\n",
      "Epoch 00171: val_acc did not improve from 0.59571\n",
      "Epoch 172/180\n",
      "335/449 [=====================>........] - ETA: 21s - loss: 1.2081 - acc: 0.6682449/449 [==============================] - 89s 199ms/step - loss: 1.2041 - acc: 0.6688 - val_loss: 1.3353 - val_acc: 0.5581\n",
      "\n",
      "Epoch 00172: val_acc did not improve from 0.59571\n",
      "Epoch 173/180\n",
      "333/449 [=====================>........] - ETA: 21s - loss: 1.1766 - acc: 0.6656449/449 [==============================] - 89s 199ms/step - loss: 1.1845 - acc: 0.6664 - val_loss: 1.2874 - val_acc: 0.5809\n",
      "\n",
      "Epoch 00173: val_acc did not improve from 0.59571\n",
      "Epoch 174/180\n",
      "334/449 [=====================>........] - ETA: 21s - loss: 1.1672 - acc: 0.6726449/449 [==============================] - 89s 199ms/step - loss: 1.1833 - acc: 0.6686 - val_loss: 1.3112 - val_acc: 0.5768\n",
      "\n",
      "Epoch 00174: val_acc did not improve from 0.59571\n",
      "Epoch 175/180\n",
      "335/449 [=====================>........] - ETA: 21s - loss: 1.1688 - acc: 0.6719449/449 [==============================] - 89s 199ms/step - loss: 1.1791 - acc: 0.6707 - val_loss: 1.2723 - val_acc: 0.5681\n",
      "\n",
      "Epoch 00175: val_acc did not improve from 0.59571\n",
      "Epoch 176/180\n",
      "335/449 [=====================>........] - ETA: 21s - loss: 1.1945 - acc: 0.6684449/449 [==============================] - 89s 199ms/step - loss: 1.1953 - acc: 0.6683 - val_loss: 1.2398 - val_acc: 0.5991\n",
      "\n",
      "Epoch 00176: val_acc improved from 0.59571 to 0.59905, saving model to weights-improvement-176-0.60.hdf5\n",
      "Epoch 177/180\n",
      "278/449 [=================>............] - ETA: 31s - loss: 1.1533 - acc: 0.6743449/449 [==============================] - 89s 199ms/step - loss: 1.1626 - acc: 0.6730 - val_loss: 1.2304 - val_acc: 0.6013\n",
      "\n",
      "Epoch 00177: val_acc improved from 0.59905 to 0.60128, saving model to weights-improvement-177-0.60.hdf5\n",
      "Epoch 178/180\n",
      "263/449 [================>.............] - ETA: 34s - loss: 1.1393 - acc: 0.6823449/449 [==============================] - 89s 199ms/step - loss: 1.1488 - acc: 0.6773 - val_loss: 1.2274 - val_acc: 0.5957\n",
      "\n",
      "Epoch 00178: val_acc did not improve from 0.60128\n",
      "Epoch 179/180\n",
      "313/449 [===================>..........] - ETA: 25s - loss: 1.1773 - acc: 0.6733449/449 [==============================] - 89s 198ms/step - loss: 1.1703 - acc: 0.6742 - val_loss: 1.2477 - val_acc: 0.5993\n",
      "\n",
      "Epoch 00179: val_acc did not improve from 0.60128\n",
      "Epoch 180/180\n",
      "329/449 [====================>.........] - ETA: 22s - loss: 1.1603 - acc: 0.6777449/449 [==============================] - 89s 199ms/step - loss: 1.1650 - acc: 0.6746 - val_loss: 1.2786 - val_acc: 0.5793\n",
      "\n",
      "Epoch 00180: val_acc did not improve from 0.60128\n"
     ]
    }
   ],
   "source": [
    "adam = Adam(lr=0.0005)\n",
    "\n",
    "model.compile(loss='categorical_crossentropy',\n",
    "             optimizer=adam,\n",
    "             metrics=['accuracy'])\n",
    "\n",
    "model.load_weights('weights-improvement-162-0.60.hdf5')\n",
    "epoch = 166\n",
    "model.fit_generator(data_aug_x, \n",
    "                    epochs=180,\n",
    "                    verbose=1,\n",
    "                    initial_epoch=epoch,\n",
    "                    callbacks=callbacks_list,\n",
    "                    validation_data=(cv_img, cv_l),\n",
    "                    class_weight = class_weight)\n",
    "\n",
    "!cp *.hdf5 $path_to_save"
   ]
  },
  {
   "cell_type": "markdown",
   "metadata": {
    "colab_type": "text",
    "id": "VEIrcFuc10jX"
   },
   "source": [
    "# 6. Performance on test data"
   ]
  },
  {
   "cell_type": "markdown",
   "metadata": {
    "colab_type": "text",
    "id": "JyOQOCBipN9c"
   },
   "source": [
    "## Test accuracy"
   ]
  },
  {
   "cell_type": "code",
   "execution_count": 22,
   "metadata": {
    "colab": {
     "autoexec": {
      "startup": false,
      "wait_interval": 0
     },
     "base_uri": "https://localhost:8080/",
     "height": 71
    },
    "colab_type": "code",
    "executionInfo": {
     "elapsed": 13218,
     "status": "ok",
     "timestamp": 1530380866415,
     "user": {
      "displayName": "suraj b",
      "photoUrl": "https://lh3.googleusercontent.com/a/default-user=s128",
      "userId": "102683608279765749841"
     },
     "user_tz": -330
    },
    "id": "cus6cumgscSj",
    "outputId": "001ed767-970e-4b85-93a1-7037d5420298"
   },
   "outputs": [
    {
     "name": "stdout",
     "output_type": "stream",
     "text": [
      "3589/3589 [==============================] - 9s 3ms/step\n",
      "Test loss: 1.1388907436708051\n",
      "Test accuracy: 0.61131234327941\n"
     ]
    }
   ],
   "source": [
    "#Loading the weights of the model at 177th epoch\n",
    "model.load_weights('drive/EIP/Facial_Expression_Recognition/weights-improvement-177-0.60.hdf5')\n",
    "score = model.evaluate(te_img,te_l, verbose=1)\n",
    "print('Test loss:', score[0])\n",
    "print('Test accuracy:', score[1])\n",
    "#model.save_weights(\"FER_model.h5\")"
   ]
  },
  {
   "cell_type": "markdown",
   "metadata": {
    "colab_type": "text",
    "id": "NnW2IftppMij"
   },
   "source": [
    "### Confusion Matrix"
   ]
  },
  {
   "cell_type": "code",
   "execution_count": 23,
   "metadata": {
    "colab": {
     "autoexec": {
      "startup": false,
      "wait_interval": 0
     },
     "base_uri": "https://localhost:8080/",
     "height": 161
    },
    "colab_type": "code",
    "executionInfo": {
     "elapsed": 8722,
     "status": "ok",
     "timestamp": 1530380881557,
     "user": {
      "displayName": "suraj b",
      "photoUrl": "https://lh3.googleusercontent.com/a/default-user=s128",
      "userId": "102683608279765749841"
     },
     "user_tz": -330
    },
    "id": "yFax-V6vpTbT",
    "outputId": "f0a48261-31d6-4f4a-b883-6c7df9bc6798"
   },
   "outputs": [
    {
     "name": "stdout",
     "output_type": "stream",
     "text": [
      "[0 4 2 ... 6 0 0]\n",
      "[[1. 0. 0. ... 0. 0. 0.]\n",
      " [0. 0. 0. ... 1. 0. 0.]\n",
      " [0. 0. 1. ... 0. 0. 0.]\n",
      " ...\n",
      " [0. 0. 0. ... 0. 0. 1.]\n",
      " [1. 0. 0. ... 0. 0. 0.]\n",
      " [1. 0. 0. ... 0. 0. 0.]]\n"
     ]
    }
   ],
   "source": [
    "from sklearn.metrics import confusion_matrix\n",
    "\n",
    "te_prob = model.predict(te_img)\n",
    "\n",
    "te_pred = np.zeros(np.shape(te_prob))\n",
    "temp = np.argmax(te_prob, axis=1)\n",
    "\n",
    "for i,k in enumerate(temp): \n",
    "  te_pred[i,k]=1\n",
    "\n",
    "print(temp)\n",
    "print(te_pred)"
   ]
  },
  {
   "cell_type": "code",
   "execution_count": 28,
   "metadata": {
    "colab": {
     "autoexec": {
      "startup": false,
      "wait_interval": 0
     },
     "base_uri": "https://localhost:8080/",
     "height": 485
    },
    "colab_type": "code",
    "executionInfo": {
     "elapsed": 2575,
     "status": "ok",
     "timestamp": 1530384756977,
     "user": {
      "displayName": "suraj b",
      "photoUrl": "https://lh3.googleusercontent.com/a/default-user=s128",
      "userId": "102683608279765749841"
     },
     "user_tz": -330
    },
    "id": "WxAa5bJ9qSkN",
    "outputId": "1f60002a-83cf-42f3-cd5f-0ee22b12aac2"
   },
   "outputs": [
    {
     "data": {
      "text/plain": [
       "<matplotlib.image.AxesImage at 0x7fed6feef828>"
      ]
     },
     "execution_count": 28,
     "metadata": {
      "tags": []
     },
     "output_type": "execute_result"
    },
    {
     "data": {
      "image/png": "[encoded data removed]",
      "text/plain": [
       "<matplotlib.figure.Figure at 0x7fed70121c18>"
      ]
     },
     "metadata": {
      "tags": []
     },
     "output_type": "display_data"
    }
   ],
   "source": [
    "cm = confusion_matrix(te_labels, temp)\n",
    "fig = plt.figure(figsize=(7,7))\n",
    "f  = fig.add_subplot(111)\n",
    "for i in range(0,7):\n",
    "  for j in range(0,7):  \n",
    "    f.text(i,j,cm[j,i],va='center', ha='center')\n",
    "    \n",
    "matplotlib.rcParams.update({'font.size': 18})\n",
    "ticks = np.arange(len(tr_set_emotions_label))\n",
    "f.set_xticks(ticks)\n",
    "f.set_yticks(ticks)\n",
    "f.set_xticklabels(tr_set_emotions_label)\n",
    "f.set_yticklabels(tr_set_emotions_label)\n",
    "\n",
    "plt.tight_layout()\n",
    "plt.ylabel('Annotated')\n",
    "plt.xlabel('Predicted')\n",
    "plt.imshow(cm.astype('uint8'),cmap=plt.cm.PuBuGn)"
   ]
  },
  {
   "cell_type": "markdown",
   "metadata": {
    "colab_type": "text",
    "id": "iv9LikntwyZ9"
   },
   "source": [
    "# 7. Appendix"
   ]
  },
  {
   "cell_type": "markdown",
   "metadata": {
    "colab_type": "text",
    "id": "AhZc5M15_nlp"
   },
   "source": [
    "## Logs\n",
    "* 30/6 : Final revision(DONE)\n",
    "* 28/6 : Writing the tutorial(DONE)\n",
    "* 27/6 : Implemented Cyclic learning rates with filter sixe of 7. Reached 61.5% in 50 epochs. Cyclic learing rate didn't have much affect.(DONE)\n",
    "* 25/6 : Tried implementing Learning rate scheduler. No change in initial epochs(DONE)\n",
    "* 23/6 : Tried few more parameters. Not much change observed except in increasing parameters(DONE)\n",
    "* 21/6 : used kernel_size=5 with data augmentation and class weights. Amazing improvement in performance. Tuning Hyperparameters (DONE)\n",
    "* 20/6 : Found few valuable observations during the hyperparameter tuning. (DONE)\n",
    "* 19/6 : Experimenting with hyperparameters. (DONE)\n",
    "* 18/6 : Ditching Winograd Implementation. Going with Seperable Conv. (DONE)\n",
    "* 16/6 : Implementing winograd convolutions for 2D data (ABORTTED)\n",
    "* 14/6 : Performing EDA and some data pre-processing. (DONE)\n",
    "* 13/6 : Setting up Jupyter Notebook. (DONE)\n",
    "* 12/6 : Understanding Winograg Convolution. (DONE)\n",
    "* 10/6 : Starting literature survey. (DONE)"
   ]
  },
  {
   "cell_type": "markdown",
   "metadata": {
    "colab_type": "text",
    "id": "029xYc99YknF"
   },
   "source": [
    "## References\n",
    "\n",
    "* [zplure's architecture](https://github.com/zlpure/Facial-Expression-Recognition)\n",
    "* [Keras documentation](https://keras.io/)\n",
    "* [Cyclic Learning rates](https://arxiv.org/abs/1506.01186)"
   ]
  },
  {
   "cell_type": "markdown",
   "metadata": {
    "colab_type": "text",
    "id": "VVqi8OGlW_8W"
   },
   "source": [
    "## Future Works\n",
    "\n",
    "* Write the introduction to CNNs in much more detail.\n",
    "* Added some more debugging stratagies with more detailed explanation.\n",
    "* Use more augmented data.\n",
    "* Initially, I have used 800,00 parameters. At that time, I was using the basic architecture. I observed that the model was overfitting heavily. Then I restricted my parameters to 200,000. After applying different filter sizes and cyclic learning rates and tuning hyper-parameters, I realised that I limited my parameters and focussed more on hyper-parameter tuning. Given more time, I would start from this point. I'm sure that the performance of the model would improve."
   ]
  },
  {
   "cell_type": "markdown",
   "metadata": {
    "colab_type": "text",
    "id": "razB_Da_z69p"
   },
   "source": [
    "# Conclusion\n",
    "The model has an test accuracy of 61.1%. The state of the art using a CNN is around 69.9%. Currently I stand position12 in the kaggle competition. I believe there is some room for improvement by using different architectures."
   ]
  }
 ],
 "metadata": {
  "accelerator": "GPU",
  "colab": {
   "collapsed_sections": [
    "WYD4x6-lIBlV",
    "UIuj5ry5TkOP",
    "3lLB_sx0PnXH",
    "Q0kgrGwSdR_V",
    "-MzS6hAZ5s6i",
    "xdN2dlE1MzeJ",
    "V-JWLt3axrR4",
    "xvPym6BkxwbW",
    "Noga8KXUx1WL",
    "42XAFgjqx6ZZ",
    "JZzzU_nLkknq",
    "Q85Idiibx_8P",
    "l9r7ywNiVCrB",
    "t1svvn8Liyqr",
    "8uPW2yHEqpqa",
    "ZXTthQDh4XvY",
    "yTxTM4YGoyyu",
    "VEIrcFuc10jX"
   ],
   "default_view": {},
   "name": "BVSG_Suraj_FINAL_FER2013.ipynb",
   "provenance": [],
   "version": "0.3.2",
   "views": {}
  },
  "kernelspec": {
   "display_name": "Python 3",
   "language": "python",
   "name": "python3"
  },
  "language_info": {
   "codemirror_mode": {
    "name": "ipython",
    "version": 3
   },
   "file_extension": ".py",
   "mimetype": "text/x-python",
   "name": "python",
   "nbconvert_exporter": "python",
   "pygments_lexer": "ipython3",
   "version": "3.6.5"
  }
 },
 "nbformat": 4,
 "nbformat_minor": 1
}
